{
 "cells": [
  {
   "cell_type": "markdown",
   "metadata": {
    "id": "NbI_RoQ9AP5r"
   },
   "source": [
    "#**스마트폰 센서 데이터 기반 모션 분류**\n",
    "# 단계3 : 단계별 모델링\n"
   ]
  },
  {
   "cell_type": "markdown",
   "metadata": {},
   "source": [
    "# 0.요약"
   ]
  },
  {
   "cell_type": "markdown",
   "metadata": {
    "id": "wc1FlP4E09oQ"
   },
   "source": [
    "단계별로 나눠서 모델링을 수행.  \n",
    "\n",
    "* 단계1 : 정적(0), 동적(1) 행동 분류 모델 생성\n",
    "* 단계2 : 세부 동작에 대한 분류모델 생성\n",
    "    * 단계1 모델에서 0으로 예측 -> 정적 행동 3가지 분류 모델링\n",
    "    * 단계1 모델에서 1으로 예측 -> 동적 행동 3가지 분류 모델링 \n",
    "* 모델 통합\n",
    "    * 두 단계 모델을 통합하고, 새로운 데이터에 대해서 최종 예측결과와 성능평가가 나오도록 함수로 만들기\n",
    "* 성능 비교\n",
    "    * 기본 모델링의 성능과 비교\n",
    "    * 모든 모델링은 [다양한 알고리즘 + 성능 튜닝]을 수행.\n",
    "    * 성능 가이드\n",
    "            * Accuracy : 0.980~1.00\n"
   ]
  },
  {
   "cell_type": "markdown",
   "metadata": {
    "id": "NCptKiLOAn7l"
   },
   "source": [
    "## 1.환경설정"
   ]
  },
  {
   "cell_type": "markdown",
   "metadata": {
    "id": "6qsy44YpolGu"
   },
   "source": [
    "### (1) 경로 설정"
   ]
  },
  {
   "cell_type": "markdown",
   "metadata": {
    "id": "gklxNfgNpkls"
   },
   "source": [
    "#### 1) 로컬 수행(Anaconda)\n"
   ]
  },
  {
   "cell_type": "code",
   "execution_count": 1,
   "metadata": {
    "executionInfo": {
     "elapsed": 2,
     "status": "ok",
     "timestamp": 1682563171817,
     "user": {
      "displayName": "허신 - Business Intelligence",
      "userId": "11511914061488776232"
     },
     "user_tz": -540
    },
    "id": "PNI6X2yxpkls"
   },
   "outputs": [],
   "source": [
    "path = 'C:/Users/User/Desktop/'"
   ]
  },
  {
   "cell_type": "markdown",
   "metadata": {
    "id": "7rWT4biQpkls"
   },
   "source": [
    "#### 2) 구글 콜랩 수행"
   ]
  },
  {
   "cell_type": "markdown",
   "metadata": {
    "id": "3OpMHqwdpkls"
   },
   "source": [
    "* 구글 드라이브 연결"
   ]
  },
  {
   "cell_type": "code",
   "execution_count": 2,
   "metadata": {
    "colab": {
     "base_uri": "https://localhost:8080/"
    },
    "executionInfo": {
     "elapsed": 26960,
     "status": "ok",
     "timestamp": 1682563199892,
     "user": {
      "displayName": "허신 - Business Intelligence",
      "userId": "11511914061488776232"
     },
     "user_tz": -540
    },
    "id": "CLasRk8Spklt",
    "outputId": "89c291cd-3306-46dc-d390-83a5d2cfd7d6"
   },
   "outputs": [],
   "source": [
    "# from google.colab import drive\n",
    "# drive.mount('/content/drive')"
   ]
  },
  {
   "cell_type": "code",
   "execution_count": 3,
   "metadata": {
    "executionInfo": {
     "elapsed": 1,
     "status": "ok",
     "timestamp": 1682563203274,
     "user": {
      "displayName": "허신 - Business Intelligence",
      "userId": "11511914061488776232"
     },
     "user_tz": -540
    },
    "id": "CAVyyXi9pklt"
   },
   "outputs": [],
   "source": [
    "# path = '/content/drive/MyDrive/project/'"
   ]
  },
  {
   "cell_type": "markdown",
   "metadata": {
    "id": "KnzVh2LmkLDU"
   },
   "source": [
    "### (2) 라이브러리 불러오기"
   ]
  },
  {
   "cell_type": "markdown",
   "metadata": {
    "id": "yZZpUzXun1mw"
   },
   "source": [
    "#### 1) 라이브러리 로딩"
   ]
  },
  {
   "cell_type": "code",
   "execution_count": 42,
   "metadata": {
    "executionInfo": {
     "elapsed": 2246,
     "status": "ok",
     "timestamp": 1682563218112,
     "user": {
      "displayName": "허신 - Business Intelligence",
      "userId": "11511914061488776232"
     },
     "user_tz": -540
    },
    "id": "3rsQerEaELwI",
    "tags": []
   },
   "outputs": [],
   "source": [
    "import pandas as pd\n",
    "import numpy as np\n",
    "import matplotlib.pyplot as plt\n",
    "import seaborn as sns\n",
    "import warnings\n",
    "\n",
    "warnings.filterwarnings(action='ignore')\n",
    "%config InlineBackend.figure_format='retina'\n",
    "# 필요하다고 판단되는 라이브러리를 추가하세요."
   ]
  },
  {
   "cell_type": "markdown",
   "metadata": {
    "id": "mlBhkYHQ491o"
   },
   "source": [
    "#### 2) 제공 함수 생성\n",
    "* 변수 중요도를 시각화할 수 있는 함수.\n",
    "* 입력 : \n",
    "    * importance : 트리모델의 변수 중요도(예: model.feature_importances_)\n",
    "    * names : 변수 이름 목록(예 : x_train.columns\n",
    "    * result_only  : 변수 중요도 순으로 데이터프레임만 return할지, 그래프도 포함할지 결정. False이면 결과 데이터프레임 + 그래프\n",
    "    * topn : 중요도 상위 n개만 표시. all 이면 전체.\n",
    "* 출력 : \n",
    "    * 중요도 그래프 : 중요도 내림차순으로 정렬\n",
    "    * 중요도 데이터프레임 : 중요도 내림차순으로 정렬"
   ]
  },
  {
   "cell_type": "code",
   "execution_count": 281,
   "metadata": {
    "executionInfo": {
     "elapsed": 855,
     "status": "ok",
     "timestamp": 1682563221306,
     "user": {
      "displayName": "허신 - Business Intelligence",
      "userId": "11511914061488776232"
     },
     "user_tz": -540
    },
    "id": "EyMZDIT-aDHZ",
    "tags": []
   },
   "outputs": [],
   "source": [
    "# 변수의 특성 중요도 계산하기\n",
    "def plot_feature_importance(importance, names, result_only = False, topn = 'all'):\n",
    "    feature_importance = np.array(importance)\n",
    "    feature_name = np.array(names)\n",
    "\n",
    "    data={'feature_name':feature_name,'feature_importance':feature_importance}\n",
    "    fi_temp = pd.DataFrame(data)\n",
    "\n",
    "    #변수의 특성 중요도 순으로 정렬하기\n",
    "    fi_temp.sort_values(by=['feature_importance'], ascending=False,inplace=True)\n",
    "    fi_temp.reset_index(drop=True, inplace = True)\n",
    "\n",
    "    if topn == 'all' :\n",
    "        fi_df = fi_temp.copy()\n",
    "    else :\n",
    "        fi_df = fi_temp.iloc[:topn]\n",
    "\n",
    "    #변수의 특성 중요도 그래프로 그리기\n",
    "    if result_only == False :\n",
    "        plt.figure(figsize=(10,20))\n",
    "        sns.barplot(x='feature_importance', y='feature_name', data = fi_df)\n",
    "\n",
    "        plt.xlabel('importance')\n",
    "        plt.ylabel('feature name')\n",
    "        plt.grid()\n",
    "\n",
    "    return fi_df"
   ]
  },
  {
   "cell_type": "markdown",
   "metadata": {
    "id": "t3pKgA7_qfRB"
   },
   "source": [
    "### (3) 데이터 불러오기"
   ]
  },
  {
   "cell_type": "markdown",
   "metadata": {
    "id": "HwIACQyupklv"
   },
   "source": [
    "* 주어진 데이터셋\n",
    "    * data01_train.csv : 학습 및 검증용\n",
    "    * data01_test.csv : 테스트용\n",
    "    * feature.csv : feature 이름을 계층구조로 정리한 데이터\n",
    "\n",
    "* 세부 처리사항\n",
    "    * 칼럼 삭제 : data01_train.csv와 data01_test.csv 에서 'subject' 칼럼은 불필요하므로 삭제."
   ]
  },
  {
   "cell_type": "markdown",
   "metadata": {
    "id": "fmgUEGOipvG5"
   },
   "source": [
    "#### 1) 데이터로딩"
   ]
  },
  {
   "cell_type": "code",
   "execution_count": 282,
   "metadata": {
    "executionInfo": {
     "elapsed": 401,
     "status": "ok",
     "timestamp": 1682563226268,
     "user": {
      "displayName": "허신 - Business Intelligence",
      "userId": "11511914061488776232"
     },
     "user_tz": -540
    },
    "id": "HdZCcSs6qfRC",
    "tags": []
   },
   "outputs": [],
   "source": [
    "train = pd.read_csv('data01_train.csv')\n",
    "test = pd.read_csv('data01_test.csv')\n",
    "features = pd.read_csv('features.csv')"
   ]
  },
  {
   "cell_type": "code",
   "execution_count": 283,
   "metadata": {
    "tags": []
   },
   "outputs": [],
   "source": [
    "train.drop('subject', axis=1, inplace=True)\n",
    "test.drop('subject', axis=1, inplace=True)"
   ]
  },
  {
   "cell_type": "markdown",
   "metadata": {
    "id": "aI7qJqz3pr3m"
   },
   "source": [
    "#### 2) 기본 정보 조회"
   ]
  },
  {
   "cell_type": "code",
   "execution_count": 284,
   "metadata": {
    "colab": {
     "base_uri": "https://localhost:8080/"
    },
    "executionInfo": {
     "elapsed": 5,
     "status": "ok",
     "timestamp": 1682563234971,
     "user": {
      "displayName": "허신 - Business Intelligence",
      "userId": "11511914061488776232"
     },
     "user_tz": -540
    },
    "id": "yFVSAGNhpr3m",
    "outputId": "366974f3-8fb1-47f9-f9aa-56a51a6b4820",
    "tags": []
   },
   "outputs": [
    {
     "name": "stdout",
     "output_type": "stream",
     "text": [
      "<class 'pandas.core.frame.DataFrame'>\n",
      "RangeIndex: 5881 entries, 0 to 5880\n",
      "Columns: 562 entries, tBodyAcc-mean()-X to Activity\n",
      "dtypes: float64(561), object(1)\n",
      "memory usage: 25.2+ MB\n",
      "None\n",
      "========================================\n",
      "<class 'pandas.core.frame.DataFrame'>\n",
      "RangeIndex: 1471 entries, 0 to 1470\n",
      "Columns: 562 entries, tBodyAcc-mean()-X to Activity\n",
      "dtypes: float64(561), object(1)\n",
      "memory usage: 6.3+ MB\n",
      "None\n"
     ]
    }
   ],
   "source": [
    "print(train.info())\n",
    "print('='*40)\n",
    "print(test.info())"
   ]
  },
  {
   "cell_type": "code",
   "execution_count": 285,
   "metadata": {
    "tags": []
   },
   "outputs": [
    {
     "name": "stdout",
     "output_type": "stream",
     "text": [
      "tBodyAcc-mean()-X                       0\n",
      "tBodyAcc-mean()-Y                       0\n",
      "tBodyAcc-mean()-Z                       0\n",
      "tBodyAcc-std()-X                        0\n",
      "tBodyAcc-std()-Y                        0\n",
      "                                       ..\n",
      "angle(tBodyGyroJerkMean,gravityMean)    0\n",
      "angle(X,gravityMean)                    0\n",
      "angle(Y,gravityMean)                    0\n",
      "angle(Z,gravityMean)                    0\n",
      "Activity                                0\n",
      "Length: 562, dtype: int64\n",
      "========================================\n",
      "tBodyAcc-mean()-X                       0\n",
      "tBodyAcc-mean()-Y                       0\n",
      "tBodyAcc-mean()-Z                       0\n",
      "tBodyAcc-std()-X                        0\n",
      "tBodyAcc-std()-Y                        0\n",
      "                                       ..\n",
      "angle(tBodyGyroJerkMean,gravityMean)    0\n",
      "angle(X,gravityMean)                    0\n",
      "angle(Y,gravityMean)                    0\n",
      "angle(Z,gravityMean)                    0\n",
      "Activity                                0\n",
      "Length: 562, dtype: int64\n"
     ]
    }
   ],
   "source": [
    "print(train.isna().sum())\n",
    "print('='*40)\n",
    "print(test.isna().sum())"
   ]
  },
  {
   "cell_type": "code",
   "execution_count": 286,
   "metadata": {
    "colab": {
     "base_uri": "https://localhost:8080/",
     "height": 337
    },
    "executionInfo": {
     "elapsed": 1271,
     "status": "ok",
     "timestamp": 1682563238594,
     "user": {
      "displayName": "허신 - Business Intelligence",
      "userId": "11511914061488776232"
     },
     "user_tz": -540
    },
    "id": "xJnnr8K-pr3m",
    "outputId": "8c85ffae-4581-4f12-a373-4ed0fc487eda",
    "tags": []
   },
   "outputs": [
    {
     "data": {
      "text/html": [
       "<div>\n",
       "<style scoped>\n",
       "    .dataframe tbody tr th:only-of-type {\n",
       "        vertical-align: middle;\n",
       "    }\n",
       "\n",
       "    .dataframe tbody tr th {\n",
       "        vertical-align: top;\n",
       "    }\n",
       "\n",
       "    .dataframe thead th {\n",
       "        text-align: right;\n",
       "    }\n",
       "</style>\n",
       "<table border=\"1\" class=\"dataframe\">\n",
       "  <thead>\n",
       "    <tr style=\"text-align: right;\">\n",
       "      <th></th>\n",
       "      <th>count</th>\n",
       "      <th>mean</th>\n",
       "      <th>std</th>\n",
       "      <th>min</th>\n",
       "      <th>25%</th>\n",
       "      <th>50%</th>\n",
       "      <th>75%</th>\n",
       "      <th>max</th>\n",
       "    </tr>\n",
       "  </thead>\n",
       "  <tbody>\n",
       "    <tr>\n",
       "      <th>tBodyAcc-mean()-X</th>\n",
       "      <td>5881.0</td>\n",
       "      <td>0.274811</td>\n",
       "      <td>0.067614</td>\n",
       "      <td>-0.503823</td>\n",
       "      <td>0.262919</td>\n",
       "      <td>0.277154</td>\n",
       "      <td>0.288526</td>\n",
       "      <td>1.000000</td>\n",
       "    </tr>\n",
       "    <tr>\n",
       "      <th>tBodyAcc-mean()-Y</th>\n",
       "      <td>5881.0</td>\n",
       "      <td>-0.017799</td>\n",
       "      <td>0.039422</td>\n",
       "      <td>-0.684893</td>\n",
       "      <td>-0.024877</td>\n",
       "      <td>-0.017221</td>\n",
       "      <td>-0.010920</td>\n",
       "      <td>1.000000</td>\n",
       "    </tr>\n",
       "    <tr>\n",
       "      <th>tBodyAcc-mean()-Z</th>\n",
       "      <td>5881.0</td>\n",
       "      <td>-0.109396</td>\n",
       "      <td>0.058373</td>\n",
       "      <td>-1.000000</td>\n",
       "      <td>-0.121051</td>\n",
       "      <td>-0.108781</td>\n",
       "      <td>-0.098163</td>\n",
       "      <td>1.000000</td>\n",
       "    </tr>\n",
       "    <tr>\n",
       "      <th>tBodyAcc-std()-X</th>\n",
       "      <td>5881.0</td>\n",
       "      <td>-0.603138</td>\n",
       "      <td>0.448807</td>\n",
       "      <td>-1.000000</td>\n",
       "      <td>-0.992774</td>\n",
       "      <td>-0.943933</td>\n",
       "      <td>-0.242130</td>\n",
       "      <td>1.000000</td>\n",
       "    </tr>\n",
       "    <tr>\n",
       "      <th>tBodyAcc-std()-Y</th>\n",
       "      <td>5881.0</td>\n",
       "      <td>-0.509815</td>\n",
       "      <td>0.501815</td>\n",
       "      <td>-0.999844</td>\n",
       "      <td>-0.977680</td>\n",
       "      <td>-0.844575</td>\n",
       "      <td>-0.034499</td>\n",
       "      <td>0.916238</td>\n",
       "    </tr>\n",
       "    <tr>\n",
       "      <th>...</th>\n",
       "      <td>...</td>\n",
       "      <td>...</td>\n",
       "      <td>...</td>\n",
       "      <td>...</td>\n",
       "      <td>...</td>\n",
       "      <td>...</td>\n",
       "      <td>...</td>\n",
       "      <td>...</td>\n",
       "    </tr>\n",
       "    <tr>\n",
       "      <th>angle(tBodyGyroMean,gravityMean)</th>\n",
       "      <td>5881.0</td>\n",
       "      <td>0.009340</td>\n",
       "      <td>0.608190</td>\n",
       "      <td>-1.000000</td>\n",
       "      <td>-0.481718</td>\n",
       "      <td>0.011448</td>\n",
       "      <td>0.499857</td>\n",
       "      <td>0.998702</td>\n",
       "    </tr>\n",
       "    <tr>\n",
       "      <th>angle(tBodyGyroJerkMean,gravityMean)</th>\n",
       "      <td>5881.0</td>\n",
       "      <td>-0.007099</td>\n",
       "      <td>0.476738</td>\n",
       "      <td>-1.000000</td>\n",
       "      <td>-0.373345</td>\n",
       "      <td>-0.000847</td>\n",
       "      <td>0.356236</td>\n",
       "      <td>0.996078</td>\n",
       "    </tr>\n",
       "    <tr>\n",
       "      <th>angle(X,gravityMean)</th>\n",
       "      <td>5881.0</td>\n",
       "      <td>-0.491501</td>\n",
       "      <td>0.509069</td>\n",
       "      <td>-1.000000</td>\n",
       "      <td>-0.811397</td>\n",
       "      <td>-0.709441</td>\n",
       "      <td>-0.511330</td>\n",
       "      <td>0.977344</td>\n",
       "    </tr>\n",
       "    <tr>\n",
       "      <th>angle(Y,gravityMean)</th>\n",
       "      <td>5881.0</td>\n",
       "      <td>0.059299</td>\n",
       "      <td>0.297340</td>\n",
       "      <td>-1.000000</td>\n",
       "      <td>-0.018203</td>\n",
       "      <td>0.182893</td>\n",
       "      <td>0.248435</td>\n",
       "      <td>0.478157</td>\n",
       "    </tr>\n",
       "    <tr>\n",
       "      <th>angle(Z,gravityMean)</th>\n",
       "      <td>5881.0</td>\n",
       "      <td>-0.054594</td>\n",
       "      <td>0.278479</td>\n",
       "      <td>-0.980143</td>\n",
       "      <td>-0.141555</td>\n",
       "      <td>0.003951</td>\n",
       "      <td>0.111932</td>\n",
       "      <td>1.000000</td>\n",
       "    </tr>\n",
       "  </tbody>\n",
       "</table>\n",
       "<p>561 rows × 8 columns</p>\n",
       "</div>"
      ],
      "text/plain": [
       "                                       count      mean       std       min  \\\n",
       "tBodyAcc-mean()-X                     5881.0  0.274811  0.067614 -0.503823   \n",
       "tBodyAcc-mean()-Y                     5881.0 -0.017799  0.039422 -0.684893   \n",
       "tBodyAcc-mean()-Z                     5881.0 -0.109396  0.058373 -1.000000   \n",
       "tBodyAcc-std()-X                      5881.0 -0.603138  0.448807 -1.000000   \n",
       "tBodyAcc-std()-Y                      5881.0 -0.509815  0.501815 -0.999844   \n",
       "...                                      ...       ...       ...       ...   \n",
       "angle(tBodyGyroMean,gravityMean)      5881.0  0.009340  0.608190 -1.000000   \n",
       "angle(tBodyGyroJerkMean,gravityMean)  5881.0 -0.007099  0.476738 -1.000000   \n",
       "angle(X,gravityMean)                  5881.0 -0.491501  0.509069 -1.000000   \n",
       "angle(Y,gravityMean)                  5881.0  0.059299  0.297340 -1.000000   \n",
       "angle(Z,gravityMean)                  5881.0 -0.054594  0.278479 -0.980143   \n",
       "\n",
       "                                           25%       50%       75%       max  \n",
       "tBodyAcc-mean()-X                     0.262919  0.277154  0.288526  1.000000  \n",
       "tBodyAcc-mean()-Y                    -0.024877 -0.017221 -0.010920  1.000000  \n",
       "tBodyAcc-mean()-Z                    -0.121051 -0.108781 -0.098163  1.000000  \n",
       "tBodyAcc-std()-X                     -0.992774 -0.943933 -0.242130  1.000000  \n",
       "tBodyAcc-std()-Y                     -0.977680 -0.844575 -0.034499  0.916238  \n",
       "...                                        ...       ...       ...       ...  \n",
       "angle(tBodyGyroMean,gravityMean)     -0.481718  0.011448  0.499857  0.998702  \n",
       "angle(tBodyGyroJerkMean,gravityMean) -0.373345 -0.000847  0.356236  0.996078  \n",
       "angle(X,gravityMean)                 -0.811397 -0.709441 -0.511330  0.977344  \n",
       "angle(Y,gravityMean)                 -0.018203  0.182893  0.248435  0.478157  \n",
       "angle(Z,gravityMean)                 -0.141555  0.003951  0.111932  1.000000  \n",
       "\n",
       "[561 rows x 8 columns]"
      ]
     },
     "metadata": {},
     "output_type": "display_data"
    },
    {
     "name": "stdout",
     "output_type": "stream",
     "text": [
      "====================================================================================================\n"
     ]
    },
    {
     "data": {
      "text/html": [
       "<div>\n",
       "<style scoped>\n",
       "    .dataframe tbody tr th:only-of-type {\n",
       "        vertical-align: middle;\n",
       "    }\n",
       "\n",
       "    .dataframe tbody tr th {\n",
       "        vertical-align: top;\n",
       "    }\n",
       "\n",
       "    .dataframe thead th {\n",
       "        text-align: right;\n",
       "    }\n",
       "</style>\n",
       "<table border=\"1\" class=\"dataframe\">\n",
       "  <thead>\n",
       "    <tr style=\"text-align: right;\">\n",
       "      <th></th>\n",
       "      <th>count</th>\n",
       "      <th>mean</th>\n",
       "      <th>std</th>\n",
       "      <th>min</th>\n",
       "      <th>25%</th>\n",
       "      <th>50%</th>\n",
       "      <th>75%</th>\n",
       "      <th>max</th>\n",
       "    </tr>\n",
       "  </thead>\n",
       "  <tbody>\n",
       "    <tr>\n",
       "      <th>tBodyAcc-mean()-X</th>\n",
       "      <td>1471.0</td>\n",
       "      <td>0.273198</td>\n",
       "      <td>0.079989</td>\n",
       "      <td>-1.000000</td>\n",
       "      <td>0.263787</td>\n",
       "      <td>0.277322</td>\n",
       "      <td>0.288058</td>\n",
       "      <td>0.631510</td>\n",
       "    </tr>\n",
       "    <tr>\n",
       "      <th>tBodyAcc-mean()-Y</th>\n",
       "      <td>1471.0</td>\n",
       "      <td>-0.017281</td>\n",
       "      <td>0.045957</td>\n",
       "      <td>-1.000000</td>\n",
       "      <td>-0.024792</td>\n",
       "      <td>-0.017187</td>\n",
       "      <td>-0.010238</td>\n",
       "      <td>0.359587</td>\n",
       "    </tr>\n",
       "    <tr>\n",
       "      <th>tBodyAcc-mean()-Z</th>\n",
       "      <td>1471.0</td>\n",
       "      <td>-0.108123</td>\n",
       "      <td>0.049082</td>\n",
       "      <td>-0.418354</td>\n",
       "      <td>-0.120733</td>\n",
       "      <td>-0.108124</td>\n",
       "      <td>-0.096606</td>\n",
       "      <td>0.543939</td>\n",
       "    </tr>\n",
       "    <tr>\n",
       "      <th>tBodyAcc-std()-X</th>\n",
       "      <td>1471.0</td>\n",
       "      <td>-0.614634</td>\n",
       "      <td>0.448480</td>\n",
       "      <td>-0.999717</td>\n",
       "      <td>-0.992669</td>\n",
       "      <td>-0.952426</td>\n",
       "      <td>-0.245405</td>\n",
       "      <td>0.899922</td>\n",
       "    </tr>\n",
       "    <tr>\n",
       "      <th>tBodyAcc-std()-Y</th>\n",
       "      <td>1471.0</td>\n",
       "      <td>-0.515427</td>\n",
       "      <td>0.506094</td>\n",
       "      <td>-0.999873</td>\n",
       "      <td>-0.979082</td>\n",
       "      <td>-0.867309</td>\n",
       "      <td>-0.030639</td>\n",
       "      <td>0.782590</td>\n",
       "    </tr>\n",
       "    <tr>\n",
       "      <th>...</th>\n",
       "      <td>...</td>\n",
       "      <td>...</td>\n",
       "      <td>...</td>\n",
       "      <td>...</td>\n",
       "      <td>...</td>\n",
       "      <td>...</td>\n",
       "      <td>...</td>\n",
       "      <td>...</td>\n",
       "    </tr>\n",
       "    <tr>\n",
       "      <th>angle(tBodyGyroMean,gravityMean)</th>\n",
       "      <td>1471.0</td>\n",
       "      <td>0.006272</td>\n",
       "      <td>0.608954</td>\n",
       "      <td>-0.995222</td>\n",
       "      <td>-0.485998</td>\n",
       "      <td>-0.005036</td>\n",
       "      <td>0.518184</td>\n",
       "      <td>0.994366</td>\n",
       "    </tr>\n",
       "    <tr>\n",
       "      <th>angle(tBodyGyroJerkMean,gravityMean)</th>\n",
       "      <td>1471.0</td>\n",
       "      <td>-0.001510</td>\n",
       "      <td>0.483028</td>\n",
       "      <td>-0.969066</td>\n",
       "      <td>-0.380300</td>\n",
       "      <td>0.002408</td>\n",
       "      <td>0.374583</td>\n",
       "      <td>0.979522</td>\n",
       "    </tr>\n",
       "    <tr>\n",
       "      <th>angle(X,gravityMean)</th>\n",
       "      <td>1471.0</td>\n",
       "      <td>-0.481737</td>\n",
       "      <td>0.522714</td>\n",
       "      <td>-0.999380</td>\n",
       "      <td>-0.814060</td>\n",
       "      <td>-0.708911</td>\n",
       "      <td>-0.486534</td>\n",
       "      <td>1.000000</td>\n",
       "    </tr>\n",
       "    <tr>\n",
       "      <th>angle(Y,gravityMean)</th>\n",
       "      <td>1471.0</td>\n",
       "      <td>0.055771</td>\n",
       "      <td>0.298124</td>\n",
       "      <td>-0.995073</td>\n",
       "      <td>-0.017413</td>\n",
       "      <td>0.178814</td>\n",
       "      <td>0.248126</td>\n",
       "      <td>0.432496</td>\n",
       "    </tr>\n",
       "    <tr>\n",
       "      <th>angle(Z,gravityMean)</th>\n",
       "      <td>1471.0</td>\n",
       "      <td>-0.064194</td>\n",
       "      <td>0.281645</td>\n",
       "      <td>-1.000000</td>\n",
       "      <td>-0.148445</td>\n",
       "      <td>-0.002243</td>\n",
       "      <td>0.096674</td>\n",
       "      <td>0.992766</td>\n",
       "    </tr>\n",
       "  </tbody>\n",
       "</table>\n",
       "<p>561 rows × 8 columns</p>\n",
       "</div>"
      ],
      "text/plain": [
       "                                       count      mean       std       min  \\\n",
       "tBodyAcc-mean()-X                     1471.0  0.273198  0.079989 -1.000000   \n",
       "tBodyAcc-mean()-Y                     1471.0 -0.017281  0.045957 -1.000000   \n",
       "tBodyAcc-mean()-Z                     1471.0 -0.108123  0.049082 -0.418354   \n",
       "tBodyAcc-std()-X                      1471.0 -0.614634  0.448480 -0.999717   \n",
       "tBodyAcc-std()-Y                      1471.0 -0.515427  0.506094 -0.999873   \n",
       "...                                      ...       ...       ...       ...   \n",
       "angle(tBodyGyroMean,gravityMean)      1471.0  0.006272  0.608954 -0.995222   \n",
       "angle(tBodyGyroJerkMean,gravityMean)  1471.0 -0.001510  0.483028 -0.969066   \n",
       "angle(X,gravityMean)                  1471.0 -0.481737  0.522714 -0.999380   \n",
       "angle(Y,gravityMean)                  1471.0  0.055771  0.298124 -0.995073   \n",
       "angle(Z,gravityMean)                  1471.0 -0.064194  0.281645 -1.000000   \n",
       "\n",
       "                                           25%       50%       75%       max  \n",
       "tBodyAcc-mean()-X                     0.263787  0.277322  0.288058  0.631510  \n",
       "tBodyAcc-mean()-Y                    -0.024792 -0.017187 -0.010238  0.359587  \n",
       "tBodyAcc-mean()-Z                    -0.120733 -0.108124 -0.096606  0.543939  \n",
       "tBodyAcc-std()-X                     -0.992669 -0.952426 -0.245405  0.899922  \n",
       "tBodyAcc-std()-Y                     -0.979082 -0.867309 -0.030639  0.782590  \n",
       "...                                        ...       ...       ...       ...  \n",
       "angle(tBodyGyroMean,gravityMean)     -0.485998 -0.005036  0.518184  0.994366  \n",
       "angle(tBodyGyroJerkMean,gravityMean) -0.380300  0.002408  0.374583  0.979522  \n",
       "angle(X,gravityMean)                 -0.814060 -0.708911 -0.486534  1.000000  \n",
       "angle(Y,gravityMean)                 -0.017413  0.178814  0.248126  0.432496  \n",
       "angle(Z,gravityMean)                 -0.148445 -0.002243  0.096674  0.992766  \n",
       "\n",
       "[561 rows x 8 columns]"
      ]
     },
     "metadata": {},
     "output_type": "display_data"
    }
   ],
   "source": [
    "display(train.describe().T)\n",
    "print('='*100)\n",
    "display(test.describe().T)"
   ]
  },
  {
   "cell_type": "code",
   "execution_count": null,
   "metadata": {
    "colab": {
     "base_uri": "https://localhost:8080/"
    },
    "executionInfo": {
     "elapsed": 5,
     "status": "ok",
     "timestamp": 1682563243613,
     "user": {
      "displayName": "허신 - Business Intelligence",
      "userId": "11511914061488776232"
     },
     "user_tz": -540
    },
    "id": "Jn78I6JFpr3n",
    "outputId": "00270fef-5351-4183-eb59-5d2342e7b900"
   },
   "outputs": [],
   "source": []
  },
  {
   "cell_type": "markdown",
   "metadata": {
    "id": "O38e5xai7SIW"
   },
   "source": [
    "## 2.데이터 전처리"
   ]
  },
  {
   "cell_type": "markdown",
   "metadata": {
    "id": "uZwtSLSqcL7G"
   },
   "source": [
    "* 세부 처리사항\n",
    "    - Label 추가 : data 에 Activity_dynamic 를 추가. Activity_dynamic은 과제1에서 is_dynamic과 동일한 값.\n",
    "    - x와 y1, y2로 분할.\n",
    "        * y1 : Activity\n",
    "        * y2 : Activity_dynamic\n",
    "    - train : val = 8 : 2 혹은 7 : 3\n",
    "    - random_state 옵션을 사용하여 다른 모델과 비교를 위해 성능 재현."
   ]
  },
  {
   "cell_type": "code",
   "execution_count": 287,
   "metadata": {
    "executionInfo": {
     "elapsed": 2,
     "status": "ok",
     "timestamp": 1682563248254,
     "user": {
      "displayName": "허신 - Business Intelligence",
      "userId": "11511914061488776232"
     },
     "user_tz": -540
    },
    "id": "NX0bdnbw7mnz",
    "tags": []
   },
   "outputs": [
    {
     "data": {
      "text/html": [
       "<div>\n",
       "<style scoped>\n",
       "    .dataframe tbody tr th:only-of-type {\n",
       "        vertical-align: middle;\n",
       "    }\n",
       "\n",
       "    .dataframe tbody tr th {\n",
       "        vertical-align: top;\n",
       "    }\n",
       "\n",
       "    .dataframe thead th {\n",
       "        text-align: right;\n",
       "    }\n",
       "</style>\n",
       "<table border=\"1\" class=\"dataframe\">\n",
       "  <thead>\n",
       "    <tr style=\"text-align: right;\">\n",
       "      <th></th>\n",
       "      <th>tBodyAcc-mean()-X</th>\n",
       "      <th>tBodyAcc-mean()-Y</th>\n",
       "      <th>tBodyAcc-mean()-Z</th>\n",
       "      <th>tBodyAcc-std()-X</th>\n",
       "      <th>tBodyAcc-std()-Y</th>\n",
       "      <th>tBodyAcc-std()-Z</th>\n",
       "      <th>tBodyAcc-mad()-X</th>\n",
       "      <th>tBodyAcc-mad()-Y</th>\n",
       "      <th>tBodyAcc-mad()-Z</th>\n",
       "      <th>tBodyAcc-max()-X</th>\n",
       "      <th>...</th>\n",
       "      <th>fBodyBodyGyroJerkMag-kurtosis()</th>\n",
       "      <th>angle(tBodyAccMean,gravity)</th>\n",
       "      <th>angle(tBodyAccJerkMean),gravityMean)</th>\n",
       "      <th>angle(tBodyGyroMean,gravityMean)</th>\n",
       "      <th>angle(tBodyGyroJerkMean,gravityMean)</th>\n",
       "      <th>angle(X,gravityMean)</th>\n",
       "      <th>angle(Y,gravityMean)</th>\n",
       "      <th>angle(Z,gravityMean)</th>\n",
       "      <th>Activity</th>\n",
       "      <th>Activity_dynamic</th>\n",
       "    </tr>\n",
       "  </thead>\n",
       "  <tbody>\n",
       "    <tr>\n",
       "      <th>0</th>\n",
       "      <td>0.288508</td>\n",
       "      <td>-0.009196</td>\n",
       "      <td>-0.103362</td>\n",
       "      <td>-0.988986</td>\n",
       "      <td>-0.962797</td>\n",
       "      <td>-0.967422</td>\n",
       "      <td>-0.989000</td>\n",
       "      <td>-0.962596</td>\n",
       "      <td>-0.965650</td>\n",
       "      <td>-0.929747</td>\n",
       "      <td>...</td>\n",
       "      <td>-0.816696</td>\n",
       "      <td>-0.042494</td>\n",
       "      <td>-0.044218</td>\n",
       "      <td>0.307873</td>\n",
       "      <td>0.072790</td>\n",
       "      <td>-0.601120</td>\n",
       "      <td>0.331298</td>\n",
       "      <td>0.165163</td>\n",
       "      <td>STANDING</td>\n",
       "      <td>0</td>\n",
       "    </tr>\n",
       "    <tr>\n",
       "      <th>1</th>\n",
       "      <td>0.265757</td>\n",
       "      <td>-0.016576</td>\n",
       "      <td>-0.098163</td>\n",
       "      <td>-0.989551</td>\n",
       "      <td>-0.994636</td>\n",
       "      <td>-0.987435</td>\n",
       "      <td>-0.990189</td>\n",
       "      <td>-0.993870</td>\n",
       "      <td>-0.987558</td>\n",
       "      <td>-0.937337</td>\n",
       "      <td>...</td>\n",
       "      <td>-0.693515</td>\n",
       "      <td>-0.062899</td>\n",
       "      <td>0.388459</td>\n",
       "      <td>-0.765014</td>\n",
       "      <td>0.771524</td>\n",
       "      <td>0.345205</td>\n",
       "      <td>-0.769186</td>\n",
       "      <td>-0.147944</td>\n",
       "      <td>LAYING</td>\n",
       "      <td>0</td>\n",
       "    </tr>\n",
       "    <tr>\n",
       "      <th>2</th>\n",
       "      <td>0.278709</td>\n",
       "      <td>-0.014511</td>\n",
       "      <td>-0.108717</td>\n",
       "      <td>-0.997720</td>\n",
       "      <td>-0.981088</td>\n",
       "      <td>-0.994008</td>\n",
       "      <td>-0.997934</td>\n",
       "      <td>-0.982187</td>\n",
       "      <td>-0.995017</td>\n",
       "      <td>-0.942584</td>\n",
       "      <td>...</td>\n",
       "      <td>-0.829311</td>\n",
       "      <td>0.000265</td>\n",
       "      <td>-0.525022</td>\n",
       "      <td>-0.891875</td>\n",
       "      <td>0.021528</td>\n",
       "      <td>-0.833564</td>\n",
       "      <td>0.202434</td>\n",
       "      <td>-0.032755</td>\n",
       "      <td>STANDING</td>\n",
       "      <td>0</td>\n",
       "    </tr>\n",
       "    <tr>\n",
       "      <th>3</th>\n",
       "      <td>0.289795</td>\n",
       "      <td>-0.035536</td>\n",
       "      <td>-0.150354</td>\n",
       "      <td>-0.231727</td>\n",
       "      <td>-0.006412</td>\n",
       "      <td>-0.338117</td>\n",
       "      <td>-0.273557</td>\n",
       "      <td>0.014245</td>\n",
       "      <td>-0.347916</td>\n",
       "      <td>0.008288</td>\n",
       "      <td>...</td>\n",
       "      <td>-0.408956</td>\n",
       "      <td>-0.255125</td>\n",
       "      <td>0.612804</td>\n",
       "      <td>0.747381</td>\n",
       "      <td>-0.072944</td>\n",
       "      <td>-0.695819</td>\n",
       "      <td>0.287154</td>\n",
       "      <td>0.111388</td>\n",
       "      <td>WALKING</td>\n",
       "      <td>1</td>\n",
       "    </tr>\n",
       "    <tr>\n",
       "      <th>4</th>\n",
       "      <td>0.394807</td>\n",
       "      <td>0.034098</td>\n",
       "      <td>0.091229</td>\n",
       "      <td>0.088489</td>\n",
       "      <td>-0.106636</td>\n",
       "      <td>-0.388502</td>\n",
       "      <td>-0.010469</td>\n",
       "      <td>-0.109680</td>\n",
       "      <td>-0.346372</td>\n",
       "      <td>0.584131</td>\n",
       "      <td>...</td>\n",
       "      <td>-0.563437</td>\n",
       "      <td>-0.044344</td>\n",
       "      <td>-0.845268</td>\n",
       "      <td>-0.974650</td>\n",
       "      <td>-0.887846</td>\n",
       "      <td>-0.705029</td>\n",
       "      <td>0.264952</td>\n",
       "      <td>0.137758</td>\n",
       "      <td>WALKING_DOWNSTAIRS</td>\n",
       "      <td>1</td>\n",
       "    </tr>\n",
       "  </tbody>\n",
       "</table>\n",
       "<p>5 rows × 563 columns</p>\n",
       "</div>"
      ],
      "text/plain": [
       "   tBodyAcc-mean()-X  tBodyAcc-mean()-Y  tBodyAcc-mean()-Z  tBodyAcc-std()-X  \\\n",
       "0           0.288508          -0.009196          -0.103362         -0.988986   \n",
       "1           0.265757          -0.016576          -0.098163         -0.989551   \n",
       "2           0.278709          -0.014511          -0.108717         -0.997720   \n",
       "3           0.289795          -0.035536          -0.150354         -0.231727   \n",
       "4           0.394807           0.034098           0.091229          0.088489   \n",
       "\n",
       "   tBodyAcc-std()-Y  tBodyAcc-std()-Z  tBodyAcc-mad()-X  tBodyAcc-mad()-Y  \\\n",
       "0         -0.962797         -0.967422         -0.989000         -0.962596   \n",
       "1         -0.994636         -0.987435         -0.990189         -0.993870   \n",
       "2         -0.981088         -0.994008         -0.997934         -0.982187   \n",
       "3         -0.006412         -0.338117         -0.273557          0.014245   \n",
       "4         -0.106636         -0.388502         -0.010469         -0.109680   \n",
       "\n",
       "   tBodyAcc-mad()-Z  tBodyAcc-max()-X  ...  fBodyBodyGyroJerkMag-kurtosis()  \\\n",
       "0         -0.965650         -0.929747  ...                        -0.816696   \n",
       "1         -0.987558         -0.937337  ...                        -0.693515   \n",
       "2         -0.995017         -0.942584  ...                        -0.829311   \n",
       "3         -0.347916          0.008288  ...                        -0.408956   \n",
       "4         -0.346372          0.584131  ...                        -0.563437   \n",
       "\n",
       "   angle(tBodyAccMean,gravity)  angle(tBodyAccJerkMean),gravityMean)  \\\n",
       "0                    -0.042494                             -0.044218   \n",
       "1                    -0.062899                              0.388459   \n",
       "2                     0.000265                             -0.525022   \n",
       "3                    -0.255125                              0.612804   \n",
       "4                    -0.044344                             -0.845268   \n",
       "\n",
       "   angle(tBodyGyroMean,gravityMean)  angle(tBodyGyroJerkMean,gravityMean)  \\\n",
       "0                          0.307873                              0.072790   \n",
       "1                         -0.765014                              0.771524   \n",
       "2                         -0.891875                              0.021528   \n",
       "3                          0.747381                             -0.072944   \n",
       "4                         -0.974650                             -0.887846   \n",
       "\n",
       "   angle(X,gravityMean)  angle(Y,gravityMean)  angle(Z,gravityMean)  \\\n",
       "0             -0.601120              0.331298              0.165163   \n",
       "1              0.345205             -0.769186             -0.147944   \n",
       "2             -0.833564              0.202434             -0.032755   \n",
       "3             -0.695819              0.287154              0.111388   \n",
       "4             -0.705029              0.264952              0.137758   \n",
       "\n",
       "             Activity  Activity_dynamic  \n",
       "0            STANDING                 0  \n",
       "1              LAYING                 0  \n",
       "2            STANDING                 0  \n",
       "3             WALKING                 1  \n",
       "4  WALKING_DOWNSTAIRS                 1  \n",
       "\n",
       "[5 rows x 563 columns]"
      ]
     },
     "execution_count": 287,
     "metadata": {},
     "output_type": "execute_result"
    }
   ],
   "source": [
    "train['Activity_dynamic'] = train['Activity'].map({'STANDING': 0, 'SITTING': 0, 'LAYING': 0, 'WALKING': 1, 'WALKING_UPSTAIRS': 1, 'WALKING_DOWNSTAIRS': 1})\n",
    "train.head()"
   ]
  },
  {
   "cell_type": "code",
   "execution_count": 288,
   "metadata": {
    "executionInfo": {
     "elapsed": 396,
     "status": "ok",
     "timestamp": 1682563250331,
     "user": {
      "displayName": "허신 - Business Intelligence",
      "userId": "11511914061488776232"
     },
     "user_tz": -540
    },
    "id": "EATFZQZpx5yR",
    "tags": []
   },
   "outputs": [],
   "source": [
    "x = train.drop(['Activity', 'Activity_dynamic'], axis=1)\n",
    "y1 = train.loc[:, 'Activity']\n",
    "y2 = train.loc[:, 'Activity_dynamic']"
   ]
  },
  {
   "cell_type": "code",
   "execution_count": 289,
   "metadata": {
    "tags": []
   },
   "outputs": [],
   "source": [
    "from sklearn.model_selection import train_test_split\n",
    "# 분할 y1\n",
    "x_train, x_val, y1_train, y1_val = train_test_split(x, y1, test_size=0.3, random_state=1, stratify=y1)"
   ]
  },
  {
   "cell_type": "markdown",
   "metadata": {
    "id": "bue7ZTLABQzi"
   },
   "source": [
    "## **3.단계별 모델링**"
   ]
  },
  {
   "cell_type": "markdown",
   "metadata": {
    "id": "cuQX1S5q39Ih"
   },
   "source": [
    "![](https://github.com/DA4BAM/image/blob/main/step%20by%20step.png?raw=true)"
   ]
  },
  {
   "cell_type": "markdown",
   "metadata": {
    "id": "dpEHt7u4CXlb"
   },
   "source": [
    "### (1) 단계1 : 정적/동적 행동 분류 모델"
   ]
  },
  {
   "cell_type": "markdown",
   "metadata": {
    "id": "8onfbGBbh1jr"
   },
   "source": [
    "* 세부 처리사항\n",
    "    * 정적 행동(Laying, Sitting, Standing)과 동적 행동(동적 : Walking, Walking-Up, Walking-Down)을 구분하는 모델 생성.\n",
    "    * 몇가지 모델을 만들고 가장 성능이 좋은 모델을 선정."
   ]
  },
  {
   "cell_type": "code",
   "execution_count": 290,
   "metadata": {
    "tags": []
   },
   "outputs": [],
   "source": [
    "# 분할 y2\n",
    "x_train, x_val, y2_train, y2_val = train_test_split(x, y2, test_size=0.3, random_state=1, stratify=y2)"
   ]
  },
  {
   "cell_type": "markdown",
   "metadata": {
    "id": "cWYtB_nUD6zu"
   },
   "source": [
    "#### 1) Logistic Regression"
   ]
  },
  {
   "cell_type": "code",
   "execution_count": 353,
   "metadata": {
    "colab": {
     "base_uri": "https://localhost:8080/",
     "height": 80
    },
    "executionInfo": {
     "elapsed": 413,
     "status": "ok",
     "timestamp": 1682563266082,
     "user": {
      "displayName": "허신 - Business Intelligence",
      "userId": "11511914061488776232"
     },
     "user_tz": -540
    },
    "id": "77X6alt9EBCb",
    "outputId": "03654580-84a6-4b7b-def3-1a673479263d",
    "tags": []
   },
   "outputs": [
    {
     "name": "stdout",
     "output_type": "stream",
     "text": [
      "Accuracy: 0.9994334277620397\n",
      "[[970   1]\n",
      " [  0 794]]\n",
      "              precision    recall  f1-score   support\n",
      "\n",
      "           0       1.00      1.00      1.00       971\n",
      "           1       1.00      1.00      1.00       794\n",
      "\n",
      "    accuracy                           1.00      1765\n",
      "   macro avg       1.00      1.00      1.00      1765\n",
      "weighted avg       1.00      1.00      1.00      1765\n",
      "\n"
     ]
    }
   ],
   "source": [
    "from sklearn.linear_model import LogisticRegression\n",
    "from sklearn.metrics import *\n",
    "# 모델\n",
    "model_lr = LogisticRegression(random_state=7)\n",
    "# 학습\n",
    "model_lr.fit(x_train, y2_train)\n",
    "# 예측\n",
    "y2_pred = model_lr.predict(x_val)\n",
    "# 평가\n",
    "print('Accuracy:', accuracy_score(y2_val, y2_pred))\n",
    "print(confusion_matrix(y2_val, y2_pred))\n",
    "print(classification_report(y2_val, y2_pred))"
   ]
  },
  {
   "cell_type": "code",
   "execution_count": 354,
   "metadata": {
    "colab": {
     "base_uri": "https://localhost:8080/"
    },
    "executionInfo": {
     "elapsed": 2,
     "status": "ok",
     "timestamp": 1682563269277,
     "user": {
      "displayName": "허신 - Business Intelligence",
      "userId": "11511914061488776232"
     },
     "user_tz": -540
    },
    "id": "ckjp_JPGEBCb",
    "outputId": "a9ac4ab0-acd8-4466-977a-3e6f8947066f"
   },
   "outputs": [],
   "source": [
    "model_lr_best = model_lr.coef_.__abs__().sum(axis=0)"
   ]
  },
  {
   "cell_type": "code",
   "execution_count": 293,
   "metadata": {
    "tags": []
   },
   "outputs": [],
   "source": [
    "features_top30_lr = plot_feature_importance(model_lr_best, names=list(x_train), result_only=30, topn = 30)"
   ]
  },
  {
   "cell_type": "code",
   "execution_count": 294,
   "metadata": {
    "tags": []
   },
   "outputs": [
    {
     "data": {
      "text/html": [
       "<div>\n",
       "<style scoped>\n",
       "    .dataframe tbody tr th:only-of-type {\n",
       "        vertical-align: middle;\n",
       "    }\n",
       "\n",
       "    .dataframe tbody tr th {\n",
       "        vertical-align: top;\n",
       "    }\n",
       "\n",
       "    .dataframe thead th {\n",
       "        text-align: right;\n",
       "    }\n",
       "</style>\n",
       "<table border=\"1\" class=\"dataframe\">\n",
       "  <thead>\n",
       "    <tr style=\"text-align: right;\">\n",
       "      <th></th>\n",
       "      <th>feature_name</th>\n",
       "      <th>feature_importance</th>\n",
       "    </tr>\n",
       "  </thead>\n",
       "  <tbody>\n",
       "    <tr>\n",
       "      <th>0</th>\n",
       "      <td>tGravityAcc-entropy()-Y</td>\n",
       "      <td>0.584519</td>\n",
       "    </tr>\n",
       "    <tr>\n",
       "      <th>1</th>\n",
       "      <td>tBodyAcc-max()-X</td>\n",
       "      <td>0.421386</td>\n",
       "    </tr>\n",
       "    <tr>\n",
       "      <th>2</th>\n",
       "      <td>fBodyAccJerk-entropy()-X</td>\n",
       "      <td>0.394913</td>\n",
       "    </tr>\n",
       "    <tr>\n",
       "      <th>3</th>\n",
       "      <td>tBodyAccJerk-entropy()-X</td>\n",
       "      <td>0.365690</td>\n",
       "    </tr>\n",
       "    <tr>\n",
       "      <th>4</th>\n",
       "      <td>tBodyGyro-correlation()-Y,Z</td>\n",
       "      <td>0.342911</td>\n",
       "    </tr>\n",
       "    <tr>\n",
       "      <th>5</th>\n",
       "      <td>fBodyAcc-entropy()-X</td>\n",
       "      <td>0.341920</td>\n",
       "    </tr>\n",
       "    <tr>\n",
       "      <th>6</th>\n",
       "      <td>tGravityAcc-energy()-X</td>\n",
       "      <td>0.329215</td>\n",
       "    </tr>\n",
       "    <tr>\n",
       "      <th>7</th>\n",
       "      <td>fBodyAccJerk-maxInds-X</td>\n",
       "      <td>0.323952</td>\n",
       "    </tr>\n",
       "    <tr>\n",
       "      <th>8</th>\n",
       "      <td>tBodyAccJerk-entropy()-Z</td>\n",
       "      <td>0.314657</td>\n",
       "    </tr>\n",
       "    <tr>\n",
       "      <th>9</th>\n",
       "      <td>tBodyAccJerkMag-entropy()</td>\n",
       "      <td>0.304350</td>\n",
       "    </tr>\n",
       "    <tr>\n",
       "      <th>10</th>\n",
       "      <td>tGravityAcc-min()-X</td>\n",
       "      <td>0.288685</td>\n",
       "    </tr>\n",
       "    <tr>\n",
       "      <th>11</th>\n",
       "      <td>fBodyAccJerk-entropy()-Y</td>\n",
       "      <td>0.287803</td>\n",
       "    </tr>\n",
       "    <tr>\n",
       "      <th>12</th>\n",
       "      <td>fBodyAcc-std()-X</td>\n",
       "      <td>0.287327</td>\n",
       "    </tr>\n",
       "    <tr>\n",
       "      <th>13</th>\n",
       "      <td>fBodyAcc-mad()-X</td>\n",
       "      <td>0.287179</td>\n",
       "    </tr>\n",
       "    <tr>\n",
       "      <th>14</th>\n",
       "      <td>tBodyAccJerk-entropy()-Y</td>\n",
       "      <td>0.279623</td>\n",
       "    </tr>\n",
       "    <tr>\n",
       "      <th>15</th>\n",
       "      <td>tBodyAcc-entropy()-Y</td>\n",
       "      <td>0.278452</td>\n",
       "    </tr>\n",
       "    <tr>\n",
       "      <th>16</th>\n",
       "      <td>tBodyAcc-std()-X</td>\n",
       "      <td>0.272359</td>\n",
       "    </tr>\n",
       "    <tr>\n",
       "      <th>17</th>\n",
       "      <td>tGravityAcc-max()-Y</td>\n",
       "      <td>0.271815</td>\n",
       "    </tr>\n",
       "    <tr>\n",
       "      <th>18</th>\n",
       "      <td>tGravityAcc-iqr()-Z</td>\n",
       "      <td>0.271252</td>\n",
       "    </tr>\n",
       "    <tr>\n",
       "      <th>19</th>\n",
       "      <td>tGravityAcc-mean()-X</td>\n",
       "      <td>0.260666</td>\n",
       "    </tr>\n",
       "    <tr>\n",
       "      <th>20</th>\n",
       "      <td>fBodyAccMag-kurtosis()</td>\n",
       "      <td>0.257152</td>\n",
       "    </tr>\n",
       "    <tr>\n",
       "      <th>21</th>\n",
       "      <td>tGravityAcc-mad()-Z</td>\n",
       "      <td>0.254650</td>\n",
       "    </tr>\n",
       "    <tr>\n",
       "      <th>22</th>\n",
       "      <td>fBodyAcc-max()-X</td>\n",
       "      <td>0.254612</td>\n",
       "    </tr>\n",
       "    <tr>\n",
       "      <th>23</th>\n",
       "      <td>tGravityAcc-std()-Z</td>\n",
       "      <td>0.251957</td>\n",
       "    </tr>\n",
       "    <tr>\n",
       "      <th>24</th>\n",
       "      <td>tBodyAcc-mad()-X</td>\n",
       "      <td>0.251235</td>\n",
       "    </tr>\n",
       "    <tr>\n",
       "      <th>25</th>\n",
       "      <td>fBodyAccJerk-entropy()-Z</td>\n",
       "      <td>0.250347</td>\n",
       "    </tr>\n",
       "    <tr>\n",
       "      <th>26</th>\n",
       "      <td>fBodyAccMag-skewness()</td>\n",
       "      <td>0.248465</td>\n",
       "    </tr>\n",
       "    <tr>\n",
       "      <th>27</th>\n",
       "      <td>fBodyAcc-entropy()-Y</td>\n",
       "      <td>0.243242</td>\n",
       "    </tr>\n",
       "    <tr>\n",
       "      <th>28</th>\n",
       "      <td>tBodyGyroJerk-entropy()-X</td>\n",
       "      <td>0.243049</td>\n",
       "    </tr>\n",
       "    <tr>\n",
       "      <th>29</th>\n",
       "      <td>tBodyGyroJerk-entropy()-Z</td>\n",
       "      <td>0.242375</td>\n",
       "    </tr>\n",
       "  </tbody>\n",
       "</table>\n",
       "</div>"
      ],
      "text/plain": [
       "                   feature_name  feature_importance\n",
       "0       tGravityAcc-entropy()-Y            0.584519\n",
       "1              tBodyAcc-max()-X            0.421386\n",
       "2      fBodyAccJerk-entropy()-X            0.394913\n",
       "3      tBodyAccJerk-entropy()-X            0.365690\n",
       "4   tBodyGyro-correlation()-Y,Z            0.342911\n",
       "5          fBodyAcc-entropy()-X            0.341920\n",
       "6        tGravityAcc-energy()-X            0.329215\n",
       "7        fBodyAccJerk-maxInds-X            0.323952\n",
       "8      tBodyAccJerk-entropy()-Z            0.314657\n",
       "9     tBodyAccJerkMag-entropy()            0.304350\n",
       "10          tGravityAcc-min()-X            0.288685\n",
       "11     fBodyAccJerk-entropy()-Y            0.287803\n",
       "12             fBodyAcc-std()-X            0.287327\n",
       "13             fBodyAcc-mad()-X            0.287179\n",
       "14     tBodyAccJerk-entropy()-Y            0.279623\n",
       "15         tBodyAcc-entropy()-Y            0.278452\n",
       "16             tBodyAcc-std()-X            0.272359\n",
       "17          tGravityAcc-max()-Y            0.271815\n",
       "18          tGravityAcc-iqr()-Z            0.271252\n",
       "19         tGravityAcc-mean()-X            0.260666\n",
       "20       fBodyAccMag-kurtosis()            0.257152\n",
       "21          tGravityAcc-mad()-Z            0.254650\n",
       "22             fBodyAcc-max()-X            0.254612\n",
       "23          tGravityAcc-std()-Z            0.251957\n",
       "24             tBodyAcc-mad()-X            0.251235\n",
       "25     fBodyAccJerk-entropy()-Z            0.250347\n",
       "26       fBodyAccMag-skewness()            0.248465\n",
       "27         fBodyAcc-entropy()-Y            0.243242\n",
       "28    tBodyGyroJerk-entropy()-X            0.243049\n",
       "29    tBodyGyroJerk-entropy()-Z            0.242375"
      ]
     },
     "execution_count": 294,
     "metadata": {},
     "output_type": "execute_result"
    }
   ],
   "source": [
    "features_top30_lr"
   ]
  },
  {
   "cell_type": "code",
   "execution_count": 355,
   "metadata": {
    "tags": []
   },
   "outputs": [],
   "source": [
    "best_model_lr = model_lr.fit(x_train.loc[:, features_top30_lr['feature_name']], y2_train)\n",
    "y2_pred = best_model_lr.predict(x_val.loc[:,features_top30_lr['feature_name']])"
   ]
  },
  {
   "cell_type": "code",
   "execution_count": 356,
   "metadata": {
    "tags": []
   },
   "outputs": [
    {
     "name": "stdout",
     "output_type": "stream",
     "text": [
      "Accuracy: 1.0\n",
      "[[971   0]\n",
      " [  0 794]]\n",
      "              precision    recall  f1-score   support\n",
      "\n",
      "           0       1.00      1.00      1.00       971\n",
      "           1       1.00      1.00      1.00       794\n",
      "\n",
      "    accuracy                           1.00      1765\n",
      "   macro avg       1.00      1.00      1.00      1765\n",
      "weighted avg       1.00      1.00      1.00      1765\n",
      "\n"
     ]
    }
   ],
   "source": [
    "print('Accuracy:', accuracy_score(y2_val, y2_pred))\n",
    "print(confusion_matrix(y2_val, y2_pred))\n",
    "print(classification_report(y2_val, y2_pred))"
   ]
  },
  {
   "cell_type": "code",
   "execution_count": 357,
   "metadata": {
    "tags": []
   },
   "outputs": [],
   "source": [
    "best_model_lr_all = best_model_lr"
   ]
  },
  {
   "cell_type": "code",
   "execution_count": 358,
   "metadata": {
    "tags": []
   },
   "outputs": [
    {
     "data": {
      "text/plain": [
       "['./best_model_lr_all.pkl']"
      ]
     },
     "execution_count": 358,
     "metadata": {},
     "output_type": "execute_result"
    }
   ],
   "source": [
    "joblib.dump(features_top30_lr, './features_top30_lr.pkl')\n",
    "joblib.dump(best_model_lr_all, './best_model_lr_all.pkl')"
   ]
  },
  {
   "cell_type": "markdown",
   "metadata": {
    "id": "vaR_-ESwD9yH"
   },
   "source": [
    "#### 2) RandomForest"
   ]
  },
  {
   "cell_type": "code",
   "execution_count": 297,
   "metadata": {
    "colab": {
     "base_uri": "https://localhost:8080/",
     "height": 80
    },
    "executionInfo": {
     "elapsed": 2677,
     "status": "ok",
     "timestamp": 1682563275774,
     "user": {
      "displayName": "허신 - Business Intelligence",
      "userId": "11511914061488776232"
     },
     "user_tz": -540
    },
    "id": "nmDpKFij8-fq",
    "outputId": "7fdef6a9-f3bd-43dd-a065-578cf320dc53",
    "tags": []
   },
   "outputs": [
    {
     "name": "stdout",
     "output_type": "stream",
     "text": [
      "Accuracy: 0.9994334277620397\n",
      "[[970   1]\n",
      " [  0 794]]\n",
      "              precision    recall  f1-score   support\n",
      "\n",
      "           0       1.00      1.00      1.00       971\n",
      "           1       1.00      1.00      1.00       794\n",
      "\n",
      "    accuracy                           1.00      1765\n",
      "   macro avg       1.00      1.00      1.00      1765\n",
      "weighted avg       1.00      1.00      1.00      1765\n",
      "\n"
     ]
    }
   ],
   "source": [
    "from sklearn.ensemble import RandomForestClassifier\n",
    "from sklearn.metrics import *\n",
    "# 모델\n",
    "model_rf = RandomForestClassifier()\n",
    "# 학습\n",
    "model_rf.fit(x_train, y2_train)\n",
    "# 예측\n",
    "y2_pred = model_rf.predict(x_val)\n",
    "# 평가\n",
    "print('Accuracy:', accuracy_score(y2_val, y2_pred))\n",
    "print(confusion_matrix(y2_val, y2_pred))\n",
    "print(classification_report(y2_val, y2_pred))"
   ]
  },
  {
   "cell_type": "code",
   "execution_count": 298,
   "metadata": {
    "colab": {
     "base_uri": "https://localhost:8080/"
    },
    "executionInfo": {
     "elapsed": 653,
     "status": "ok",
     "timestamp": 1682563278382,
     "user": {
      "displayName": "허신 - Business Intelligence",
      "userId": "11511914061488776232"
     },
     "user_tz": -540
    },
    "id": "HpKJHa9zyHIl",
    "outputId": "227e4d30-e845-4ed0-87c9-c5fc99f9dfab"
   },
   "outputs": [],
   "source": [
    "features_top30_rf = plot_feature_importance(model_rf.feature_importances_, names=list(x_train), result_only=True, topn = 30)"
   ]
  },
  {
   "cell_type": "code",
   "execution_count": 313,
   "metadata": {
    "tags": []
   },
   "outputs": [
    {
     "name": "stderr",
     "output_type": "stream",
     "text": [
      "[I 2024-04-05 15:35:36,653] A new study created in memory with name: no-name-a30aeced-584f-42f0-ac24-47be3dd32a5f\n",
      "[I 2024-04-05 15:35:38,344] Trial 0 finished with value: 0.9994334277620397 and parameters: {'max_depth': 7, 'n_estimators': 145, 'min_samples_split': 4, 'min_samples_leaf': 9}. Best is trial 0 with value: 0.9994334277620397.\n",
      "[I 2024-04-05 15:35:39,572] Trial 1 finished with value: 0.9994334277620397 and parameters: {'max_depth': 8, 'n_estimators': 100, 'min_samples_split': 3, 'min_samples_leaf': 3}. Best is trial 0 with value: 0.9994334277620397.\n",
      "[I 2024-04-05 15:35:41,051] Trial 2 finished with value: 0.9994334277620397 and parameters: {'max_depth': 19, 'n_estimators': 123, 'min_samples_split': 3, 'min_samples_leaf': 8}. Best is trial 0 with value: 0.9994334277620397.\n",
      "[I 2024-04-05 15:35:43,085] Trial 3 finished with value: 0.9994334277620397 and parameters: {'max_depth': 12, 'n_estimators': 171, 'min_samples_split': 15, 'min_samples_leaf': 9}. Best is trial 0 with value: 0.9994334277620397.\n",
      "[I 2024-04-05 15:35:45,125] Trial 4 finished with value: 0.9994334277620397 and parameters: {'max_depth': 19, 'n_estimators': 167, 'min_samples_split': 8, 'min_samples_leaf': 6}. Best is trial 0 with value: 0.9994334277620397.\n",
      "[I 2024-04-05 15:35:47,457] Trial 5 finished with value: 0.9994334277620397 and parameters: {'max_depth': 20, 'n_estimators': 183, 'min_samples_split': 15, 'min_samples_leaf': 3}. Best is trial 0 with value: 0.9994334277620397.\n",
      "[I 2024-04-05 15:35:49,530] Trial 6 finished with value: 0.9994334277620397 and parameters: {'max_depth': 10, 'n_estimators': 168, 'min_samples_split': 5, 'min_samples_leaf': 5}. Best is trial 0 with value: 0.9994334277620397.\n",
      "[I 2024-04-05 15:35:51,059] Trial 7 finished with value: 0.9994334277620397 and parameters: {'max_depth': 11, 'n_estimators': 125, 'min_samples_split': 8, 'min_samples_leaf': 8}. Best is trial 0 with value: 0.9994334277620397.\n",
      "[I 2024-04-05 15:35:52,736] Trial 8 finished with value: 0.9994334277620397 and parameters: {'max_depth': 19, 'n_estimators': 150, 'min_samples_split': 14, 'min_samples_leaf': 4}. Best is trial 0 with value: 0.9994334277620397.\n",
      "[I 2024-04-05 15:35:53,910] Trial 9 finished with value: 0.9994334277620397 and parameters: {'max_depth': 14, 'n_estimators': 107, 'min_samples_split': 17, 'min_samples_leaf': 10}. Best is trial 0 with value: 0.9994334277620397.\n",
      "[I 2024-04-05 15:35:56,428] Trial 10 finished with value: 0.9994334277620397 and parameters: {'max_depth': 5, 'n_estimators': 200, 'min_samples_split': 20, 'min_samples_leaf': 1}. Best is trial 0 with value: 0.9994334277620397.\n",
      "[I 2024-04-05 15:35:58,330] Trial 11 finished with value: 0.9994334277620397 and parameters: {'max_depth': 6, 'n_estimators': 140, 'min_samples_split': 2, 'min_samples_leaf': 2}. Best is trial 0 with value: 0.9994334277620397.\n",
      "[I 2024-04-05 15:35:59,771] Trial 12 finished with value: 0.9994334277620397 and parameters: {'max_depth': 8, 'n_estimators': 105, 'min_samples_split': 7, 'min_samples_leaf': 6}. Best is trial 0 with value: 0.9994334277620397.\n",
      "[I 2024-04-05 15:36:01,355] Trial 13 finished with value: 0.9994334277620397 and parameters: {'max_depth': 8, 'n_estimators': 128, 'min_samples_split': 11, 'min_samples_leaf': 4}. Best is trial 0 with value: 0.9994334277620397.\n",
      "[I 2024-04-05 15:36:03,241] Trial 14 finished with value: 0.9994334277620397 and parameters: {'max_depth': 15, 'n_estimators': 145, 'min_samples_split': 5, 'min_samples_leaf': 7}. Best is trial 0 with value: 0.9994334277620397.\n",
      "[I 2024-04-05 15:36:04,691] Trial 15 finished with value: 0.9994334277620397 and parameters: {'max_depth': 8, 'n_estimators': 114, 'min_samples_split': 11, 'min_samples_leaf': 10}. Best is trial 0 with value: 0.9994334277620397.\n",
      "[I 2024-04-05 15:36:06,273] Trial 16 finished with value: 0.9994334277620397 and parameters: {'max_depth': 6, 'n_estimators': 133, 'min_samples_split': 4, 'min_samples_leaf': 1}. Best is trial 0 with value: 0.9994334277620397.\n",
      "[I 2024-04-05 15:36:07,609] Trial 17 finished with value: 0.9994334277620397 and parameters: {'max_depth': 9, 'n_estimators': 100, 'min_samples_split': 2, 'min_samples_leaf': 3}. Best is trial 0 with value: 0.9994334277620397.\n",
      "[I 2024-04-05 15:36:09,693] Trial 18 finished with value: 0.9994334277620397 and parameters: {'max_depth': 14, 'n_estimators': 155, 'min_samples_split': 6, 'min_samples_leaf': 5}. Best is trial 0 with value: 0.9994334277620397.\n",
      "[I 2024-04-05 15:36:12,159] Trial 19 finished with value: 0.9994334277620397 and parameters: {'max_depth': 5, 'n_estimators': 198, 'min_samples_split': 10, 'min_samples_leaf': 7}. Best is trial 0 with value: 0.9994334277620397.\n",
      "[I 2024-04-05 15:36:13,628] Trial 20 finished with value: 0.9994334277620397 and parameters: {'max_depth': 16, 'n_estimators': 116, 'min_samples_split': 9, 'min_samples_leaf': 3}. Best is trial 0 with value: 0.9994334277620397.\n",
      "[I 2024-04-05 15:36:15,245] Trial 21 finished with value: 0.9994334277620397 and parameters: {'max_depth': 17, 'n_estimators': 120, 'min_samples_split': 3, 'min_samples_leaf': 8}. Best is trial 0 with value: 0.9994334277620397.\n",
      "[I 2024-04-05 15:36:16,963] Trial 22 finished with value: 0.9994334277620397 and parameters: {'max_depth': 12, 'n_estimators': 135, 'min_samples_split': 4, 'min_samples_leaf': 9}. Best is trial 0 with value: 0.9994334277620397.\n",
      "[I 2024-04-05 15:36:18,358] Trial 23 finished with value: 0.9994334277620397 and parameters: {'max_depth': 7, 'n_estimators': 109, 'min_samples_split': 2, 'min_samples_leaf': 8}. Best is trial 0 with value: 0.9994334277620397.\n",
      "[I 2024-04-05 15:36:20,153] Trial 24 finished with value: 0.9994334277620397 and parameters: {'max_depth': 10, 'n_estimators': 156, 'min_samples_split': 6, 'min_samples_leaf': 9}. Best is trial 0 with value: 0.9994334277620397.\n",
      "[I 2024-04-05 15:36:21,692] Trial 25 finished with value: 0.9994334277620397 and parameters: {'max_depth': 17, 'n_estimators': 126, 'min_samples_split': 4, 'min_samples_leaf': 7}. Best is trial 0 with value: 0.9994334277620397.\n",
      "[I 2024-04-05 15:36:23,282] Trial 26 finished with value: 0.9994334277620397 and parameters: {'max_depth': 13, 'n_estimators': 118, 'min_samples_split': 6, 'min_samples_leaf': 10}. Best is trial 0 with value: 0.9994334277620397.\n",
      "[I 2024-04-05 15:36:25,007] Trial 27 finished with value: 0.9994334277620397 and parameters: {'max_depth': 10, 'n_estimators': 141, 'min_samples_split': 3, 'min_samples_leaf': 9}. Best is trial 0 with value: 0.9994334277620397.\n",
      "[I 2024-04-05 15:36:26,208] Trial 28 finished with value: 0.9994334277620397 and parameters: {'max_depth': 7, 'n_estimators': 100, 'min_samples_split': 3, 'min_samples_leaf': 6}. Best is trial 0 with value: 0.9994334277620397.\n",
      "[I 2024-04-05 15:36:28,543] Trial 29 finished with value: 0.9994334277620397 and parameters: {'max_depth': 12, 'n_estimators': 181, 'min_samples_split': 5, 'min_samples_leaf': 8}. Best is trial 0 with value: 0.9994334277620397.\n"
     ]
    },
    {
     "name": "stdout",
     "output_type": "stream",
     "text": [
      "Number of finished trials: 30\n",
      "Best trial: {'max_depth': 7, 'n_estimators': 145, 'min_samples_split': 4, 'min_samples_leaf': 9}\n"
     ]
    }
   ],
   "source": [
    "import optuna\n",
    "from sklearn.ensemble import RandomForestClassifier\n",
    "from sklearn.metrics import accuracy_score\n",
    "from sklearn.model_selection import train_test_split\n",
    "\n",
    "# optuna\n",
    "def objective(trial):\n",
    "    # 하이퍼파라미터 범위 설정\n",
    "    max_depth = trial.suggest_int('max_depth', 5, 20)\n",
    "    n_estimators = trial.suggest_int('n_estimators', 100, 200)\n",
    "    min_samples_split = trial.suggest_int('min_samples_split', 2, 20)\n",
    "    min_samples_leaf = trial.suggest_int('min_samples_leaf', 1, 10)\n",
    "    # 모델\n",
    "    model_rf = RandomForestClassifier(max_depth=max_depth, n_estimators=n_estimators, random_state=7)\n",
    "    \n",
    "    # 학습\n",
    "    model_rf.fit(x_train.loc[:, features_top30_rf['feature_name']], y2_train)\n",
    "    \n",
    "    # 예측 및 평가\n",
    "    y2_pred = model_rf.predict(x_val.loc[:, features_top30_rf['feature_name']])\n",
    "    accuracy = accuracy_score(y2_val, y2_pred)\n",
    "    \n",
    "    return accuracy\n",
    "\n",
    "# Optuna 최적화\n",
    "study = optuna.create_study(direction='maximize') # accuracy\n",
    "study.optimize(objective, n_trials=30)  \n",
    "\n",
    "# 최적 하이퍼파라미터 \n",
    "print('Number of finished trials:', len(study.trials))\n",
    "print('Best trial:', study.best_trial.params)"
   ]
  },
  {
   "cell_type": "code",
   "execution_count": 314,
   "metadata": {
    "tags": []
   },
   "outputs": [
    {
     "name": "stdout",
     "output_type": "stream",
     "text": [
      "Accuracy: 0.9994334277620397\n",
      "[[970   1]\n",
      " [  0 794]]\n",
      "              precision    recall  f1-score   support\n",
      "\n",
      "           0       1.00      1.00      1.00       971\n",
      "           1       1.00      1.00      1.00       794\n",
      "\n",
      "    accuracy                           1.00      1765\n",
      "   macro avg       1.00      1.00      1.00      1765\n",
      "weighted avg       1.00      1.00      1.00      1765\n",
      "\n"
     ]
    }
   ],
   "source": [
    "# 모델 학습, 예측, 평가\n",
    "best_params = study.best_trial.params\n",
    "best_model_rf = RandomForestClassifier(**best_params, random_state=7)\n",
    "best_model_rf.fit(x_train.loc[:, features_top30_rf['feature_name']], y2_train)\n",
    "y2_pred = best_model_rf.predict(x_val.loc[:, features_top30_rf['feature_name']])\n",
    "print('Accuracy:', accuracy_score(y2_val, y2_pred))\n",
    "print(confusion_matrix(y2_val, y2_pred))\n",
    "print(classification_report(y2_val, y2_pred))"
   ]
  },
  {
   "cell_type": "code",
   "execution_count": 315,
   "metadata": {
    "tags": []
   },
   "outputs": [],
   "source": [
    "model_rf_params = best_params"
   ]
  },
  {
   "cell_type": "code",
   "execution_count": 316,
   "metadata": {
    "tags": []
   },
   "outputs": [
    {
     "data": {
      "text/plain": [
       "['./best_model_rf.pkl']"
      ]
     },
     "execution_count": 316,
     "metadata": {},
     "output_type": "execute_result"
    }
   ],
   "source": [
    "joblib.dump(model_rf_params, './model_rf_params.pkl')\n",
    "joblib.dump(best_model_rf, './best_model_rf.pkl')"
   ]
  },
  {
   "cell_type": "markdown",
   "metadata": {
    "id": "9sTQeLpjCfV9"
   },
   "source": [
    "### (2) 단계2-1 : 정적 동작 세부 분류"
   ]
  },
  {
   "cell_type": "markdown",
   "metadata": {
    "id": "tr0QtSuTihs0"
   },
   "source": [
    "* 세부 처리사항\n",
    "    * 정적 행동(Laying, Sitting, Standing)인 데이터 추출\n",
    "    * Laying, Sitting, Standing 를 분류하는 모델을 생성\n",
    "    * 몇가지 모델을 만들고 가장 성능이 좋은 모델을 선정."
   ]
  },
  {
   "cell_type": "code",
   "execution_count": 317,
   "metadata": {
    "tags": []
   },
   "outputs": [],
   "source": [
    "# 정적 : 0\n",
    "train_stop = train.loc[train['Activity'].isin(['LAYING', 'STANDING', 'SITTING'])]\n",
    "# 동적 : 1\n",
    "train_move = train.loc[train['Activity'].isin(['WALKING', 'WALKING_UPSTAIRS', 'WALKING_DOWNSTAIRS'])]"
   ]
  },
  {
   "cell_type": "code",
   "execution_count": 318,
   "metadata": {
    "tags": []
   },
   "outputs": [
    {
     "data": {
      "text/html": [
       "<div>\n",
       "<style scoped>\n",
       "    .dataframe tbody tr th:only-of-type {\n",
       "        vertical-align: middle;\n",
       "    }\n",
       "\n",
       "    .dataframe tbody tr th {\n",
       "        vertical-align: top;\n",
       "    }\n",
       "\n",
       "    .dataframe thead th {\n",
       "        text-align: right;\n",
       "    }\n",
       "</style>\n",
       "<table border=\"1\" class=\"dataframe\">\n",
       "  <thead>\n",
       "    <tr style=\"text-align: right;\">\n",
       "      <th></th>\n",
       "      <th>tBodyAcc-mean()-X</th>\n",
       "      <th>tBodyAcc-mean()-Y</th>\n",
       "      <th>tBodyAcc-mean()-Z</th>\n",
       "      <th>tBodyAcc-std()-X</th>\n",
       "      <th>tBodyAcc-std()-Y</th>\n",
       "      <th>tBodyAcc-std()-Z</th>\n",
       "      <th>tBodyAcc-mad()-X</th>\n",
       "      <th>tBodyAcc-mad()-Y</th>\n",
       "      <th>tBodyAcc-mad()-Z</th>\n",
       "      <th>tBodyAcc-max()-X</th>\n",
       "      <th>...</th>\n",
       "      <th>fBodyBodyGyroJerkMag-kurtosis()</th>\n",
       "      <th>angle(tBodyAccMean,gravity)</th>\n",
       "      <th>angle(tBodyAccJerkMean),gravityMean)</th>\n",
       "      <th>angle(tBodyGyroMean,gravityMean)</th>\n",
       "      <th>angle(tBodyGyroJerkMean,gravityMean)</th>\n",
       "      <th>angle(X,gravityMean)</th>\n",
       "      <th>angle(Y,gravityMean)</th>\n",
       "      <th>angle(Z,gravityMean)</th>\n",
       "      <th>Activity</th>\n",
       "      <th>Activity_dynamic</th>\n",
       "    </tr>\n",
       "  </thead>\n",
       "  <tbody>\n",
       "    <tr>\n",
       "      <th>0</th>\n",
       "      <td>0.288508</td>\n",
       "      <td>-0.009196</td>\n",
       "      <td>-0.103362</td>\n",
       "      <td>-0.988986</td>\n",
       "      <td>-0.962797</td>\n",
       "      <td>-0.967422</td>\n",
       "      <td>-0.989000</td>\n",
       "      <td>-0.962596</td>\n",
       "      <td>-0.965650</td>\n",
       "      <td>-0.929747</td>\n",
       "      <td>...</td>\n",
       "      <td>-0.816696</td>\n",
       "      <td>-0.042494</td>\n",
       "      <td>-0.044218</td>\n",
       "      <td>0.307873</td>\n",
       "      <td>0.072790</td>\n",
       "      <td>-0.601120</td>\n",
       "      <td>0.331298</td>\n",
       "      <td>0.165163</td>\n",
       "      <td>STANDING</td>\n",
       "      <td>0</td>\n",
       "    </tr>\n",
       "    <tr>\n",
       "      <th>1</th>\n",
       "      <td>0.265757</td>\n",
       "      <td>-0.016576</td>\n",
       "      <td>-0.098163</td>\n",
       "      <td>-0.989551</td>\n",
       "      <td>-0.994636</td>\n",
       "      <td>-0.987435</td>\n",
       "      <td>-0.990189</td>\n",
       "      <td>-0.993870</td>\n",
       "      <td>-0.987558</td>\n",
       "      <td>-0.937337</td>\n",
       "      <td>...</td>\n",
       "      <td>-0.693515</td>\n",
       "      <td>-0.062899</td>\n",
       "      <td>0.388459</td>\n",
       "      <td>-0.765014</td>\n",
       "      <td>0.771524</td>\n",
       "      <td>0.345205</td>\n",
       "      <td>-0.769186</td>\n",
       "      <td>-0.147944</td>\n",
       "      <td>LAYING</td>\n",
       "      <td>0</td>\n",
       "    </tr>\n",
       "    <tr>\n",
       "      <th>2</th>\n",
       "      <td>0.278709</td>\n",
       "      <td>-0.014511</td>\n",
       "      <td>-0.108717</td>\n",
       "      <td>-0.997720</td>\n",
       "      <td>-0.981088</td>\n",
       "      <td>-0.994008</td>\n",
       "      <td>-0.997934</td>\n",
       "      <td>-0.982187</td>\n",
       "      <td>-0.995017</td>\n",
       "      <td>-0.942584</td>\n",
       "      <td>...</td>\n",
       "      <td>-0.829311</td>\n",
       "      <td>0.000265</td>\n",
       "      <td>-0.525022</td>\n",
       "      <td>-0.891875</td>\n",
       "      <td>0.021528</td>\n",
       "      <td>-0.833564</td>\n",
       "      <td>0.202434</td>\n",
       "      <td>-0.032755</td>\n",
       "      <td>STANDING</td>\n",
       "      <td>0</td>\n",
       "    </tr>\n",
       "    <tr>\n",
       "      <th>7</th>\n",
       "      <td>0.272026</td>\n",
       "      <td>-0.001329</td>\n",
       "      <td>-0.125491</td>\n",
       "      <td>-0.992068</td>\n",
       "      <td>-0.912985</td>\n",
       "      <td>-0.972451</td>\n",
       "      <td>-0.994752</td>\n",
       "      <td>-0.943141</td>\n",
       "      <td>-0.976428</td>\n",
       "      <td>-0.925446</td>\n",
       "      <td>...</td>\n",
       "      <td>-0.704995</td>\n",
       "      <td>-0.024442</td>\n",
       "      <td>0.076332</td>\n",
       "      <td>0.741277</td>\n",
       "      <td>0.729812</td>\n",
       "      <td>-0.817201</td>\n",
       "      <td>0.037746</td>\n",
       "      <td>0.136129</td>\n",
       "      <td>STANDING</td>\n",
       "      <td>0</td>\n",
       "    </tr>\n",
       "    <tr>\n",
       "      <th>8</th>\n",
       "      <td>0.284338</td>\n",
       "      <td>0.021956</td>\n",
       "      <td>-0.006925</td>\n",
       "      <td>-0.980153</td>\n",
       "      <td>-0.838394</td>\n",
       "      <td>-0.782357</td>\n",
       "      <td>-0.983683</td>\n",
       "      <td>-0.816199</td>\n",
       "      <td>-0.743923</td>\n",
       "      <td>-0.914011</td>\n",
       "      <td>...</td>\n",
       "      <td>-0.400197</td>\n",
       "      <td>0.021212</td>\n",
       "      <td>-0.009465</td>\n",
       "      <td>-0.282762</td>\n",
       "      <td>0.563343</td>\n",
       "      <td>-0.782072</td>\n",
       "      <td>0.242834</td>\n",
       "      <td>-0.025285</td>\n",
       "      <td>STANDING</td>\n",
       "      <td>0</td>\n",
       "    </tr>\n",
       "  </tbody>\n",
       "</table>\n",
       "<p>5 rows × 563 columns</p>\n",
       "</div>"
      ],
      "text/plain": [
       "   tBodyAcc-mean()-X  tBodyAcc-mean()-Y  tBodyAcc-mean()-Z  tBodyAcc-std()-X  \\\n",
       "0           0.288508          -0.009196          -0.103362         -0.988986   \n",
       "1           0.265757          -0.016576          -0.098163         -0.989551   \n",
       "2           0.278709          -0.014511          -0.108717         -0.997720   \n",
       "7           0.272026          -0.001329          -0.125491         -0.992068   \n",
       "8           0.284338           0.021956          -0.006925         -0.980153   \n",
       "\n",
       "   tBodyAcc-std()-Y  tBodyAcc-std()-Z  tBodyAcc-mad()-X  tBodyAcc-mad()-Y  \\\n",
       "0         -0.962797         -0.967422         -0.989000         -0.962596   \n",
       "1         -0.994636         -0.987435         -0.990189         -0.993870   \n",
       "2         -0.981088         -0.994008         -0.997934         -0.982187   \n",
       "7         -0.912985         -0.972451         -0.994752         -0.943141   \n",
       "8         -0.838394         -0.782357         -0.983683         -0.816199   \n",
       "\n",
       "   tBodyAcc-mad()-Z  tBodyAcc-max()-X  ...  fBodyBodyGyroJerkMag-kurtosis()  \\\n",
       "0         -0.965650         -0.929747  ...                        -0.816696   \n",
       "1         -0.987558         -0.937337  ...                        -0.693515   \n",
       "2         -0.995017         -0.942584  ...                        -0.829311   \n",
       "7         -0.976428         -0.925446  ...                        -0.704995   \n",
       "8         -0.743923         -0.914011  ...                        -0.400197   \n",
       "\n",
       "   angle(tBodyAccMean,gravity)  angle(tBodyAccJerkMean),gravityMean)  \\\n",
       "0                    -0.042494                             -0.044218   \n",
       "1                    -0.062899                              0.388459   \n",
       "2                     0.000265                             -0.525022   \n",
       "7                    -0.024442                              0.076332   \n",
       "8                     0.021212                             -0.009465   \n",
       "\n",
       "   angle(tBodyGyroMean,gravityMean)  angle(tBodyGyroJerkMean,gravityMean)  \\\n",
       "0                          0.307873                              0.072790   \n",
       "1                         -0.765014                              0.771524   \n",
       "2                         -0.891875                              0.021528   \n",
       "7                          0.741277                              0.729812   \n",
       "8                         -0.282762                              0.563343   \n",
       "\n",
       "   angle(X,gravityMean)  angle(Y,gravityMean)  angle(Z,gravityMean)  Activity  \\\n",
       "0             -0.601120              0.331298              0.165163  STANDING   \n",
       "1              0.345205             -0.769186             -0.147944    LAYING   \n",
       "2             -0.833564              0.202434             -0.032755  STANDING   \n",
       "7             -0.817201              0.037746              0.136129  STANDING   \n",
       "8             -0.782072              0.242834             -0.025285  STANDING   \n",
       "\n",
       "   Activity_dynamic  \n",
       "0                 0  \n",
       "1                 0  \n",
       "2                 0  \n",
       "7                 0  \n",
       "8                 0  \n",
       "\n",
       "[5 rows x 563 columns]"
      ]
     },
     "execution_count": 318,
     "metadata": {},
     "output_type": "execute_result"
    }
   ],
   "source": [
    "train_stop.head()"
   ]
  },
  {
   "cell_type": "code",
   "execution_count": 319,
   "metadata": {
    "tags": []
   },
   "outputs": [
    {
     "data": {
      "text/html": [
       "<div>\n",
       "<style scoped>\n",
       "    .dataframe tbody tr th:only-of-type {\n",
       "        vertical-align: middle;\n",
       "    }\n",
       "\n",
       "    .dataframe tbody tr th {\n",
       "        vertical-align: top;\n",
       "    }\n",
       "\n",
       "    .dataframe thead th {\n",
       "        text-align: right;\n",
       "    }\n",
       "</style>\n",
       "<table border=\"1\" class=\"dataframe\">\n",
       "  <thead>\n",
       "    <tr style=\"text-align: right;\">\n",
       "      <th></th>\n",
       "      <th>tBodyAcc-mean()-X</th>\n",
       "      <th>tBodyAcc-mean()-Y</th>\n",
       "      <th>tBodyAcc-mean()-Z</th>\n",
       "      <th>tBodyAcc-std()-X</th>\n",
       "      <th>tBodyAcc-std()-Y</th>\n",
       "      <th>tBodyAcc-std()-Z</th>\n",
       "      <th>tBodyAcc-mad()-X</th>\n",
       "      <th>tBodyAcc-mad()-Y</th>\n",
       "      <th>tBodyAcc-mad()-Z</th>\n",
       "      <th>tBodyAcc-max()-X</th>\n",
       "      <th>...</th>\n",
       "      <th>fBodyBodyGyroJerkMag-meanFreq()</th>\n",
       "      <th>fBodyBodyGyroJerkMag-skewness()</th>\n",
       "      <th>fBodyBodyGyroJerkMag-kurtosis()</th>\n",
       "      <th>angle(tBodyAccMean,gravity)</th>\n",
       "      <th>angle(tBodyAccJerkMean),gravityMean)</th>\n",
       "      <th>angle(tBodyGyroMean,gravityMean)</th>\n",
       "      <th>angle(tBodyGyroJerkMean,gravityMean)</th>\n",
       "      <th>angle(X,gravityMean)</th>\n",
       "      <th>angle(Y,gravityMean)</th>\n",
       "      <th>angle(Z,gravityMean)</th>\n",
       "    </tr>\n",
       "  </thead>\n",
       "  <tbody>\n",
       "    <tr>\n",
       "      <th>0</th>\n",
       "      <td>0.288508</td>\n",
       "      <td>-0.009196</td>\n",
       "      <td>-0.103362</td>\n",
       "      <td>-0.988986</td>\n",
       "      <td>-0.962797</td>\n",
       "      <td>-0.967422</td>\n",
       "      <td>-0.989000</td>\n",
       "      <td>-0.962596</td>\n",
       "      <td>-0.965650</td>\n",
       "      <td>-0.929747</td>\n",
       "      <td>...</td>\n",
       "      <td>-0.032207</td>\n",
       "      <td>-0.487737</td>\n",
       "      <td>-0.816696</td>\n",
       "      <td>-0.042494</td>\n",
       "      <td>-0.044218</td>\n",
       "      <td>0.307873</td>\n",
       "      <td>0.072790</td>\n",
       "      <td>-0.601120</td>\n",
       "      <td>0.331298</td>\n",
       "      <td>0.165163</td>\n",
       "    </tr>\n",
       "    <tr>\n",
       "      <th>1</th>\n",
       "      <td>0.265757</td>\n",
       "      <td>-0.016576</td>\n",
       "      <td>-0.098163</td>\n",
       "      <td>-0.989551</td>\n",
       "      <td>-0.994636</td>\n",
       "      <td>-0.987435</td>\n",
       "      <td>-0.990189</td>\n",
       "      <td>-0.993870</td>\n",
       "      <td>-0.987558</td>\n",
       "      <td>-0.937337</td>\n",
       "      <td>...</td>\n",
       "      <td>-0.246705</td>\n",
       "      <td>-0.237820</td>\n",
       "      <td>-0.693515</td>\n",
       "      <td>-0.062899</td>\n",
       "      <td>0.388459</td>\n",
       "      <td>-0.765014</td>\n",
       "      <td>0.771524</td>\n",
       "      <td>0.345205</td>\n",
       "      <td>-0.769186</td>\n",
       "      <td>-0.147944</td>\n",
       "    </tr>\n",
       "    <tr>\n",
       "      <th>2</th>\n",
       "      <td>0.278709</td>\n",
       "      <td>-0.014511</td>\n",
       "      <td>-0.108717</td>\n",
       "      <td>-0.997720</td>\n",
       "      <td>-0.981088</td>\n",
       "      <td>-0.994008</td>\n",
       "      <td>-0.997934</td>\n",
       "      <td>-0.982187</td>\n",
       "      <td>-0.995017</td>\n",
       "      <td>-0.942584</td>\n",
       "      <td>...</td>\n",
       "      <td>0.388765</td>\n",
       "      <td>-0.535287</td>\n",
       "      <td>-0.829311</td>\n",
       "      <td>0.000265</td>\n",
       "      <td>-0.525022</td>\n",
       "      <td>-0.891875</td>\n",
       "      <td>0.021528</td>\n",
       "      <td>-0.833564</td>\n",
       "      <td>0.202434</td>\n",
       "      <td>-0.032755</td>\n",
       "    </tr>\n",
       "  </tbody>\n",
       "</table>\n",
       "<p>3 rows × 561 columns</p>\n",
       "</div>"
      ],
      "text/plain": [
       "   tBodyAcc-mean()-X  tBodyAcc-mean()-Y  tBodyAcc-mean()-Z  tBodyAcc-std()-X  \\\n",
       "0           0.288508          -0.009196          -0.103362         -0.988986   \n",
       "1           0.265757          -0.016576          -0.098163         -0.989551   \n",
       "2           0.278709          -0.014511          -0.108717         -0.997720   \n",
       "\n",
       "   tBodyAcc-std()-Y  tBodyAcc-std()-Z  tBodyAcc-mad()-X  tBodyAcc-mad()-Y  \\\n",
       "0         -0.962797         -0.967422         -0.989000         -0.962596   \n",
       "1         -0.994636         -0.987435         -0.990189         -0.993870   \n",
       "2         -0.981088         -0.994008         -0.997934         -0.982187   \n",
       "\n",
       "   tBodyAcc-mad()-Z  tBodyAcc-max()-X  ...  fBodyBodyGyroJerkMag-meanFreq()  \\\n",
       "0         -0.965650         -0.929747  ...                        -0.032207   \n",
       "1         -0.987558         -0.937337  ...                        -0.246705   \n",
       "2         -0.995017         -0.942584  ...                         0.388765   \n",
       "\n",
       "   fBodyBodyGyroJerkMag-skewness()  fBodyBodyGyroJerkMag-kurtosis()  \\\n",
       "0                        -0.487737                        -0.816696   \n",
       "1                        -0.237820                        -0.693515   \n",
       "2                        -0.535287                        -0.829311   \n",
       "\n",
       "   angle(tBodyAccMean,gravity)  angle(tBodyAccJerkMean),gravityMean)  \\\n",
       "0                    -0.042494                             -0.044218   \n",
       "1                    -0.062899                              0.388459   \n",
       "2                     0.000265                             -0.525022   \n",
       "\n",
       "   angle(tBodyGyroMean,gravityMean)  angle(tBodyGyroJerkMean,gravityMean)  \\\n",
       "0                          0.307873                              0.072790   \n",
       "1                         -0.765014                              0.771524   \n",
       "2                         -0.891875                              0.021528   \n",
       "\n",
       "   angle(X,gravityMean)  angle(Y,gravityMean)  angle(Z,gravityMean)  \n",
       "0             -0.601120              0.331298              0.165163  \n",
       "1              0.345205             -0.769186             -0.147944  \n",
       "2             -0.833564              0.202434             -0.032755  \n",
       "\n",
       "[3 rows x 561 columns]"
      ]
     },
     "execution_count": 319,
     "metadata": {},
     "output_type": "execute_result"
    }
   ],
   "source": [
    "x_stop = train_stop.drop(['Activity', 'Activity_dynamic'], axis=1)\n",
    "y_stop = train_stop.loc[:, 'Activity']\n",
    "x_stop.head(3)"
   ]
  },
  {
   "cell_type": "code",
   "execution_count": 320,
   "metadata": {
    "executionInfo": {
     "elapsed": 401,
     "status": "ok",
     "timestamp": 1682563282940,
     "user": {
      "displayName": "허신 - Business Intelligence",
      "userId": "11511914061488776232"
     },
     "user_tz": -540
    },
    "id": "jzqSjhjOyRkZ",
    "tags": []
   },
   "outputs": [],
   "source": [
    "x_stop_train, x_stop_val, y_stop_train, y_stop_val = train_test_split(x_stop, y_stop, test_size=0.3, random_state=1, stratify=y_stop)"
   ]
  },
  {
   "cell_type": "code",
   "execution_count": 321,
   "metadata": {
    "colab": {
     "base_uri": "https://localhost:8080/"
    },
    "executionInfo": {
     "elapsed": 602,
     "status": "ok",
     "timestamp": 1682563286774,
     "user": {
      "displayName": "허신 - Business Intelligence",
      "userId": "11511914061488776232"
     },
     "user_tz": -540
    },
    "id": "ryCMQyo7C9qK",
    "outputId": "ffbf7752-a8fb-4d67-8e4f-672d57dbcff2",
    "tags": []
   },
   "outputs": [
    {
     "name": "stdout",
     "output_type": "stream",
     "text": [
      "Accuracy: 0.9670442842430484\n",
      "[[335   0   0]\n",
      " [  0 293  17]\n",
      " [  0  15 311]]\n",
      "              precision    recall  f1-score   support\n",
      "\n",
      "      LAYING       1.00      1.00      1.00       335\n",
      "     SITTING       0.95      0.95      0.95       310\n",
      "    STANDING       0.95      0.95      0.95       326\n",
      "\n",
      "    accuracy                           0.97       971\n",
      "   macro avg       0.97      0.97      0.97       971\n",
      "weighted avg       0.97      0.97      0.97       971\n",
      "\n"
     ]
    }
   ],
   "source": [
    "model_lo_stop = LogisticRegression(random_state=7)\n",
    "model_lo_stop.fit(x_stop_train, y_stop_train)\n",
    "pred_stop_val = model_lo_stop.predict(x_stop_val)\n",
    "print('Accuracy:', accuracy_score(y_stop_val, pred_stop_val))\n",
    "print(confusion_matrix(y_stop_val, pred_stop_val))\n",
    "print(classification_report(y_stop_val, pred_stop_val))"
   ]
  },
  {
   "cell_type": "code",
   "execution_count": 322,
   "metadata": {
    "tags": []
   },
   "outputs": [],
   "source": [
    "best_model_lr = model_lo_stop.fit(x_stop_train.loc[:, features_top30_lr['feature_name']], y_stop_train)\n",
    "pred_stop_val = best_model_lr.predict(x_stop_val.loc[:,features_top30_lr['feature_name']])"
   ]
  },
  {
   "cell_type": "code",
   "execution_count": 323,
   "metadata": {
    "tags": []
   },
   "outputs": [
    {
     "name": "stdout",
     "output_type": "stream",
     "text": [
      "Accuracy: 0.933058702368692\n",
      "[[335   0   0]\n",
      " [  3 262  45]\n",
      " [  0  17 309]]\n",
      "              precision    recall  f1-score   support\n",
      "\n",
      "      LAYING       0.99      1.00      1.00       335\n",
      "     SITTING       0.94      0.85      0.89       310\n",
      "    STANDING       0.87      0.95      0.91       326\n",
      "\n",
      "    accuracy                           0.93       971\n",
      "   macro avg       0.93      0.93      0.93       971\n",
      "weighted avg       0.93      0.93      0.93       971\n",
      "\n"
     ]
    }
   ],
   "source": [
    "print('Accuracy:', accuracy_score(y_stop_val, pred_stop_val))\n",
    "print(confusion_matrix(y_stop_val, pred_stop_val))\n",
    "print(classification_report(y_stop_val, pred_stop_val))"
   ]
  },
  {
   "cell_type": "code",
   "execution_count": 324,
   "metadata": {
    "tags": []
   },
   "outputs": [
    {
     "data": {
      "text/plain": [
       "['./best_model_lr_stop.pkl']"
      ]
     },
     "execution_count": 324,
     "metadata": {},
     "output_type": "execute_result"
    }
   ],
   "source": [
    "best_model_lr_stop = best_model_lr\n",
    "joblib.dump(best_model_lr_stop, './best_model_lr_stop.pkl')"
   ]
  },
  {
   "cell_type": "code",
   "execution_count": null,
   "metadata": {},
   "outputs": [],
   "source": []
  },
  {
   "cell_type": "code",
   "execution_count": null,
   "metadata": {},
   "outputs": [],
   "source": []
  },
  {
   "cell_type": "code",
   "execution_count": 325,
   "metadata": {
    "colab": {
     "base_uri": "https://localhost:8080/"
    },
    "executionInfo": {
     "elapsed": 5,
     "status": "ok",
     "timestamp": 1682563291886,
     "user": {
      "displayName": "허신 - Business Intelligence",
      "userId": "11511914061488776232"
     },
     "user_tz": -540
    },
    "id": "ZFKVVQCeyUs4",
    "outputId": "a5cf8ac9-04fd-40da-90d3-d9678e05bb8e",
    "tags": []
   },
   "outputs": [
    {
     "name": "stdout",
     "output_type": "stream",
     "text": [
      "Accuracy: 0.9660144181256437\n",
      "[[335   0   0]\n",
      " [  0 288  22]\n",
      " [  0  11 315]]\n",
      "              precision    recall  f1-score   support\n",
      "\n",
      "      LAYING       1.00      1.00      1.00       335\n",
      "     SITTING       0.96      0.93      0.95       310\n",
      "    STANDING       0.93      0.97      0.95       326\n",
      "\n",
      "    accuracy                           0.97       971\n",
      "   macro avg       0.97      0.97      0.97       971\n",
      "weighted avg       0.97      0.97      0.97       971\n",
      "\n"
     ]
    }
   ],
   "source": [
    "# 모델 생성\n",
    "model_rf_stop = RandomForestClassifier(random_state=7)\n",
    "# 학습\n",
    "model_rf_stop.fit(x_stop_train, y_stop_train)\n",
    "# 예측\n",
    "pred_stop_val = model_rf_stop.predict(x_stop_val)\n",
    "# 평가\n",
    "print('Accuracy:', accuracy_score(y_stop_val, pred_stop_val))\n",
    "print(confusion_matrix(y_stop_val, pred_stop_val))\n",
    "print(classification_report(y_stop_val, pred_stop_val))"
   ]
  },
  {
   "cell_type": "code",
   "execution_count": 327,
   "metadata": {
    "tags": []
   },
   "outputs": [
    {
     "name": "stderr",
     "output_type": "stream",
     "text": [
      "[I 2024-04-05 15:40:36,726] A new study created in memory with name: no-name-34c5a9fa-5b25-4427-b1d9-7a6c89d0124e\n",
      "[I 2024-04-05 15:40:41,688] Trial 0 finished with value: 0.6622039134912462 and parameters: {'max_depth': 16, 'n_estimators': 125, 'min_samples_split': 17, 'min_samples_leaf': 9}. Best is trial 0 with value: 0.6622039134912462.\n",
      "[I 2024-04-05 15:40:49,514] Trial 1 finished with value: 0.6766220391349125 and parameters: {'max_depth': 16, 'n_estimators': 197, 'min_samples_split': 3, 'min_samples_leaf': 1}. Best is trial 1 with value: 0.6766220391349125.\n",
      "[I 2024-04-05 15:40:52,400] Trial 2 finished with value: 0.6374871266735325 and parameters: {'max_depth': 5, 'n_estimators': 153, 'min_samples_split': 17, 'min_samples_leaf': 3}. Best is trial 1 with value: 0.6766220391349125.\n",
      "[I 2024-04-05 15:40:56,908] Trial 3 finished with value: 0.6436663233779608 and parameters: {'max_depth': 7, 'n_estimators': 176, 'min_samples_split': 3, 'min_samples_leaf': 5}. Best is trial 1 with value: 0.6766220391349125.\n",
      "[I 2024-04-05 15:41:04,280] Trial 4 finished with value: 0.6673532440782698 and parameters: {'max_depth': 13, 'n_estimators': 197, 'min_samples_split': 16, 'min_samples_leaf': 3}. Best is trial 1 with value: 0.6766220391349125.\n",
      "[I 2024-04-05 15:41:07,318] Trial 5 finished with value: 0.6477857878475798 and parameters: {'max_depth': 7, 'n_estimators': 114, 'min_samples_split': 4, 'min_samples_leaf': 1}. Best is trial 1 with value: 0.6766220391349125.\n",
      "[I 2024-04-05 15:41:13,342] Trial 6 finished with value: 0.6622039134912462 and parameters: {'max_depth': 13, 'n_estimators': 161, 'min_samples_split': 15, 'min_samples_leaf': 9}. Best is trial 1 with value: 0.6766220391349125.\n",
      "[I 2024-04-05 15:41:20,788] Trial 7 finished with value: 0.6879505664263645 and parameters: {'max_depth': 19, 'n_estimators': 193, 'min_samples_split': 18, 'min_samples_leaf': 5}. Best is trial 7 with value: 0.6879505664263645.\n",
      "[I 2024-04-05 15:41:24,667] Trial 8 finished with value: 0.6601441812564367 and parameters: {'max_depth': 10, 'n_estimators': 117, 'min_samples_split': 11, 'min_samples_leaf': 6}. Best is trial 7 with value: 0.6879505664263645.\n",
      "[I 2024-04-05 15:41:30,222] Trial 9 finished with value: 0.674562306900103 and parameters: {'max_depth': 16, 'n_estimators': 145, 'min_samples_split': 15, 'min_samples_leaf': 9}. Best is trial 7 with value: 0.6879505664263645.\n",
      "[I 2024-04-05 15:41:36,950] Trial 10 finished with value: 0.685890834191555 and parameters: {'max_depth': 20, 'n_estimators': 177, 'min_samples_split': 20, 'min_samples_leaf': 6}. Best is trial 7 with value: 0.6879505664263645.\n",
      "[I 2024-04-05 15:41:43,933] Trial 11 finished with value: 0.6828012358393409 and parameters: {'max_depth': 20, 'n_estimators': 179, 'min_samples_split': 20, 'min_samples_leaf': 6}. Best is trial 7 with value: 0.6879505664263645.\n",
      "[I 2024-04-05 15:41:50,905] Trial 12 finished with value: 0.6828012358393409 and parameters: {'max_depth': 20, 'n_estimators': 179, 'min_samples_split': 20, 'min_samples_leaf': 7}. Best is trial 7 with value: 0.6879505664263645.\n",
      "[I 2024-04-05 15:41:58,003] Trial 13 finished with value: 0.6869207003089598 and parameters: {'max_depth': 18, 'n_estimators': 186, 'min_samples_split': 12, 'min_samples_leaf': 4}. Best is trial 7 with value: 0.6879505664263645.\n",
      "[I 2024-04-05 15:42:05,240] Trial 14 finished with value: 0.685890834191555 and parameters: {'max_depth': 18, 'n_estimators': 197, 'min_samples_split': 10, 'min_samples_leaf': 4}. Best is trial 7 with value: 0.6879505664263645.\n",
      "[I 2024-04-05 15:42:11,171] Trial 15 finished with value: 0.6828012358393409 and parameters: {'max_depth': 18, 'n_estimators': 165, 'min_samples_split': 7, 'min_samples_leaf': 3}. Best is trial 7 with value: 0.6879505664263645.\n",
      "[I 2024-04-05 15:42:16,214] Trial 16 finished with value: 0.670442842430484 and parameters: {'max_depth': 18, 'n_estimators': 135, 'min_samples_split': 8, 'min_samples_leaf': 4}. Best is trial 7 with value: 0.6879505664263645.\n",
      "[I 2024-04-05 15:42:22,742] Trial 17 finished with value: 0.670442842430484 and parameters: {'max_depth': 11, 'n_estimators': 186, 'min_samples_split': 12, 'min_samples_leaf': 7}. Best is trial 7 with value: 0.6879505664263645.\n",
      "[I 2024-04-05 15:42:26,601] Trial 18 finished with value: 0.6755921730175077 and parameters: {'max_depth': 17, 'n_estimators': 102, 'min_samples_split': 14, 'min_samples_leaf': 2}. Best is trial 7 with value: 0.6879505664263645.\n",
      "[I 2024-04-05 15:42:32,791] Trial 19 finished with value: 0.6725025746652935 and parameters: {'max_depth': 14, 'n_estimators': 164, 'min_samples_split': 7, 'min_samples_leaf': 5}. Best is trial 7 with value: 0.6879505664263645.\n",
      "[I 2024-04-05 15:42:40,136] Trial 20 finished with value: 0.6683831101956745 and parameters: {'max_depth': 15, 'n_estimators': 188, 'min_samples_split': 13, 'min_samples_leaf': 7}. Best is trial 7 with value: 0.6879505664263645.\n",
      "[I 2024-04-05 15:42:46,471] Trial 21 finished with value: 0.685890834191555 and parameters: {'max_depth': 20, 'n_estimators': 172, 'min_samples_split': 18, 'min_samples_leaf': 4}. Best is trial 7 with value: 0.6879505664263645.\n",
      "[I 2024-04-05 15:42:53,496] Trial 22 finished with value: 0.6879505664263645 and parameters: {'max_depth': 19, 'n_estimators': 187, 'min_samples_split': 18, 'min_samples_leaf': 5}. Best is trial 7 with value: 0.6879505664263645.\n",
      "[I 2024-04-05 15:43:00,433] Trial 23 finished with value: 0.6879505664263645 and parameters: {'max_depth': 18, 'n_estimators': 188, 'min_samples_split': 18, 'min_samples_leaf': 5}. Best is trial 7 with value: 0.6879505664263645.\n",
      "[I 2024-04-05 15:43:07,519] Trial 24 finished with value: 0.6869207003089598 and parameters: {'max_depth': 19, 'n_estimators': 189, 'min_samples_split': 19, 'min_samples_leaf': 5}. Best is trial 7 with value: 0.6879505664263645.\n",
      "[I 2024-04-05 15:43:15,054] Trial 25 finished with value: 0.6848609680741503 and parameters: {'max_depth': 17, 'n_estimators': 200, 'min_samples_split': 18, 'min_samples_leaf': 8}. Best is trial 7 with value: 0.6879505664263645.\n",
      "[I 2024-04-05 15:43:20,881] Trial 26 finished with value: 0.670442842430484 and parameters: {'max_depth': 11, 'n_estimators': 170, 'min_samples_split': 16, 'min_samples_leaf': 5}. Best is trial 7 with value: 0.6879505664263645.\n",
      "[I 2024-04-05 15:43:27,940] Trial 27 finished with value: 0.685890834191555 and parameters: {'max_depth': 19, 'n_estimators': 191, 'min_samples_split': 18, 'min_samples_leaf': 6}. Best is trial 7 with value: 0.6879505664263645.\n",
      "[I 2024-04-05 15:43:33,420] Trial 28 finished with value: 0.6725025746652935 and parameters: {'max_depth': 15, 'n_estimators': 153, 'min_samples_split': 16, 'min_samples_leaf': 10}. Best is trial 7 with value: 0.6879505664263645.\n",
      "[I 2024-04-05 15:43:38,681] Trial 29 finished with value: 0.6766220391349125 and parameters: {'max_depth': 17, 'n_estimators': 141, 'min_samples_split': 17, 'min_samples_leaf': 2}. Best is trial 7 with value: 0.6879505664263645.\n"
     ]
    },
    {
     "name": "stdout",
     "output_type": "stream",
     "text": [
      "Number of finished trials: 30\n",
      "Best trial: {'max_depth': 19, 'n_estimators': 193, 'min_samples_split': 18, 'min_samples_leaf': 5}\n"
     ]
    }
   ],
   "source": [
    "import optuna\n",
    "from sklearn.ensemble import RandomForestClassifier\n",
    "from sklearn.metrics import accuracy_score\n",
    "from sklearn.model_selection import train_test_split\n",
    "\n",
    "# optuna\n",
    "def objective(trial):\n",
    "    # 하이퍼파라미터 범위 설정\n",
    "    max_depth = trial.suggest_int('max_depth', 5, 20)\n",
    "    n_estimators = trial.suggest_int('n_estimators', 100, 200)\n",
    "    min_samples_split = trial.suggest_int('min_samples_split', 2, 20)\n",
    "    min_samples_leaf = trial.suggest_int('min_samples_leaf', 1, 10)\n",
    "    # 모델\n",
    "    model_rf_stop = RandomForestClassifier(max_depth=max_depth, n_estimators=n_estimators, random_state=7)\n",
    "    \n",
    "    # 학습\n",
    "    model_rf_stop.fit(x_stop_train.loc[:, features_top30_rf['feature_name']], y_stop_train)\n",
    "    \n",
    "    # 예측 및 평가\n",
    "    pred_stop_val = model_rf_stop.predict(x_stop_val.loc[:, features_top30_rf['feature_name']])\n",
    "    accuracy = accuracy_score(y_stop_val, pred_stop_val)\n",
    "    \n",
    "    return accuracy\n",
    "\n",
    "# Optuna 최적화\n",
    "study = optuna.create_study(direction='maximize') # accuracy\n",
    "study.optimize(objective, n_trials=30)  \n",
    "\n",
    "# 최적 하이퍼파라미터 \n",
    "print('Number of finished trials:', len(study.trials))\n",
    "print('Best trial:', study.best_trial.params)"
   ]
  },
  {
   "cell_type": "code",
   "execution_count": null,
   "metadata": {},
   "outputs": [],
   "source": []
  },
  {
   "cell_type": "code",
   "execution_count": 328,
   "metadata": {
    "tags": []
   },
   "outputs": [
    {
     "name": "stdout",
     "output_type": "stream",
     "text": [
      "Accuracy: 0.6673532440782698\n",
      "[[264  46  25]\n",
      " [ 67 156  87]\n",
      " [ 42  56 228]]\n",
      "              precision    recall  f1-score   support\n",
      "\n",
      "      LAYING       0.71      0.79      0.75       335\n",
      "     SITTING       0.60      0.50      0.55       310\n",
      "    STANDING       0.67      0.70      0.68       326\n",
      "\n",
      "    accuracy                           0.67       971\n",
      "   macro avg       0.66      0.66      0.66       971\n",
      "weighted avg       0.66      0.67      0.66       971\n",
      "\n"
     ]
    }
   ],
   "source": [
    "# 모델 학습, 예측, 평가\n",
    "best_params = study.best_trial.params\n",
    "best_model_rf = RandomForestClassifier(**best_params, random_state=7)\n",
    "best_model_rf.fit(x_stop_train.loc[:, features_top30_rf['feature_name']], y_stop_train)\n",
    "pred_stop_val = best_model_rf.predict(x_stop_val.loc[:, features_top30_rf['feature_name']])\n",
    "print('Accuracy:', accuracy_score(y_stop_val, pred_stop_val))\n",
    "print(confusion_matrix(y_stop_val, pred_stop_val))\n",
    "print(classification_report(y_stop_val, pred_stop_val))"
   ]
  },
  {
   "cell_type": "code",
   "execution_count": 329,
   "metadata": {
    "tags": []
   },
   "outputs": [],
   "source": [
    "model_rf_params_stop = best_params\n",
    "best_model_rf_stop = best_model_rf"
   ]
  },
  {
   "cell_type": "code",
   "execution_count": 330,
   "metadata": {
    "tags": []
   },
   "outputs": [
    {
     "data": {
      "text/plain": [
       "['./best_model_rf_stop.pkl']"
      ]
     },
     "execution_count": 330,
     "metadata": {},
     "output_type": "execute_result"
    }
   ],
   "source": [
    "joblib.dump(features_top30_rf, './features_top30_rf.pkl')\n",
    "joblib.dump(model_rf_params_stop, './model_rf_params_stop.pkl')\n",
    "joblib.dump(best_model_rf_stop, './best_model_rf_stop.pkl')"
   ]
  },
  {
   "cell_type": "markdown",
   "metadata": {
    "id": "jjNRQJpRC045"
   },
   "source": [
    "### (3) 단계2-2 : 동적 동작 세부 분류"
   ]
  },
  {
   "cell_type": "markdown",
   "metadata": {
    "id": "Rsy1RELi2qfF"
   },
   "source": [
    "* 세부 처리사항\n",
    "    * 동적 행동(Walking, Walking Upstairs, Walking Downstairs)인 데이터 추출\n",
    "    * Walking, Walking Upstairs, Walking Downstairs 를 분류하는 모델을 생성\n",
    "    * 몇가지 모델을 만들고 가장 성능이 좋은 모델을 선정"
   ]
  },
  {
   "cell_type": "code",
   "execution_count": 331,
   "metadata": {
    "executionInfo": {
     "elapsed": 1137,
     "status": "ok",
     "timestamp": 1682563297692,
     "user": {
      "displayName": "허신 - Business Intelligence",
      "userId": "11511914061488776232"
     },
     "user_tz": -540
    },
    "id": "a4Kgcm-u-RQO",
    "tags": []
   },
   "outputs": [
    {
     "data": {
      "text/html": [
       "<div>\n",
       "<style scoped>\n",
       "    .dataframe tbody tr th:only-of-type {\n",
       "        vertical-align: middle;\n",
       "    }\n",
       "\n",
       "    .dataframe tbody tr th {\n",
       "        vertical-align: top;\n",
       "    }\n",
       "\n",
       "    .dataframe thead th {\n",
       "        text-align: right;\n",
       "    }\n",
       "</style>\n",
       "<table border=\"1\" class=\"dataframe\">\n",
       "  <thead>\n",
       "    <tr style=\"text-align: right;\">\n",
       "      <th></th>\n",
       "      <th>tBodyAcc-mean()-X</th>\n",
       "      <th>tBodyAcc-mean()-Y</th>\n",
       "      <th>tBodyAcc-mean()-Z</th>\n",
       "      <th>tBodyAcc-std()-X</th>\n",
       "      <th>tBodyAcc-std()-Y</th>\n",
       "      <th>tBodyAcc-std()-Z</th>\n",
       "      <th>tBodyAcc-mad()-X</th>\n",
       "      <th>tBodyAcc-mad()-Y</th>\n",
       "      <th>tBodyAcc-mad()-Z</th>\n",
       "      <th>tBodyAcc-max()-X</th>\n",
       "      <th>...</th>\n",
       "      <th>fBodyBodyGyroJerkMag-meanFreq()</th>\n",
       "      <th>fBodyBodyGyroJerkMag-skewness()</th>\n",
       "      <th>fBodyBodyGyroJerkMag-kurtosis()</th>\n",
       "      <th>angle(tBodyAccMean,gravity)</th>\n",
       "      <th>angle(tBodyAccJerkMean),gravityMean)</th>\n",
       "      <th>angle(tBodyGyroMean,gravityMean)</th>\n",
       "      <th>angle(tBodyGyroJerkMean,gravityMean)</th>\n",
       "      <th>angle(X,gravityMean)</th>\n",
       "      <th>angle(Y,gravityMean)</th>\n",
       "      <th>angle(Z,gravityMean)</th>\n",
       "    </tr>\n",
       "  </thead>\n",
       "  <tbody>\n",
       "    <tr>\n",
       "      <th>3</th>\n",
       "      <td>0.289795</td>\n",
       "      <td>-0.035536</td>\n",
       "      <td>-0.150354</td>\n",
       "      <td>-0.231727</td>\n",
       "      <td>-0.006412</td>\n",
       "      <td>-0.338117</td>\n",
       "      <td>-0.273557</td>\n",
       "      <td>0.014245</td>\n",
       "      <td>-0.347916</td>\n",
       "      <td>0.008288</td>\n",
       "      <td>...</td>\n",
       "      <td>0.050888</td>\n",
       "      <td>-0.004012</td>\n",
       "      <td>-0.408956</td>\n",
       "      <td>-0.255125</td>\n",
       "      <td>0.612804</td>\n",
       "      <td>0.747381</td>\n",
       "      <td>-0.072944</td>\n",
       "      <td>-0.695819</td>\n",
       "      <td>0.287154</td>\n",
       "      <td>0.111388</td>\n",
       "    </tr>\n",
       "    <tr>\n",
       "      <th>4</th>\n",
       "      <td>0.394807</td>\n",
       "      <td>0.034098</td>\n",
       "      <td>0.091229</td>\n",
       "      <td>0.088489</td>\n",
       "      <td>-0.106636</td>\n",
       "      <td>-0.388502</td>\n",
       "      <td>-0.010469</td>\n",
       "      <td>-0.109680</td>\n",
       "      <td>-0.346372</td>\n",
       "      <td>0.584131</td>\n",
       "      <td>...</td>\n",
       "      <td>-0.013902</td>\n",
       "      <td>-0.157832</td>\n",
       "      <td>-0.563437</td>\n",
       "      <td>-0.044344</td>\n",
       "      <td>-0.845268</td>\n",
       "      <td>-0.974650</td>\n",
       "      <td>-0.887846</td>\n",
       "      <td>-0.705029</td>\n",
       "      <td>0.264952</td>\n",
       "      <td>0.137758</td>\n",
       "    </tr>\n",
       "    <tr>\n",
       "      <th>5</th>\n",
       "      <td>0.330708</td>\n",
       "      <td>0.007561</td>\n",
       "      <td>-0.061371</td>\n",
       "      <td>-0.215760</td>\n",
       "      <td>0.101075</td>\n",
       "      <td>0.072949</td>\n",
       "      <td>-0.269857</td>\n",
       "      <td>0.060060</td>\n",
       "      <td>0.101298</td>\n",
       "      <td>-0.019263</td>\n",
       "      <td>...</td>\n",
       "      <td>0.114524</td>\n",
       "      <td>-0.599906</td>\n",
       "      <td>-0.887024</td>\n",
       "      <td>-0.030645</td>\n",
       "      <td>-0.852091</td>\n",
       "      <td>-0.500195</td>\n",
       "      <td>0.306091</td>\n",
       "      <td>-0.552729</td>\n",
       "      <td>0.253885</td>\n",
       "      <td>0.291256</td>\n",
       "    </tr>\n",
       "  </tbody>\n",
       "</table>\n",
       "<p>3 rows × 561 columns</p>\n",
       "</div>"
      ],
      "text/plain": [
       "   tBodyAcc-mean()-X  tBodyAcc-mean()-Y  tBodyAcc-mean()-Z  tBodyAcc-std()-X  \\\n",
       "3           0.289795          -0.035536          -0.150354         -0.231727   \n",
       "4           0.394807           0.034098           0.091229          0.088489   \n",
       "5           0.330708           0.007561          -0.061371         -0.215760   \n",
       "\n",
       "   tBodyAcc-std()-Y  tBodyAcc-std()-Z  tBodyAcc-mad()-X  tBodyAcc-mad()-Y  \\\n",
       "3         -0.006412         -0.338117         -0.273557          0.014245   \n",
       "4         -0.106636         -0.388502         -0.010469         -0.109680   \n",
       "5          0.101075          0.072949         -0.269857          0.060060   \n",
       "\n",
       "   tBodyAcc-mad()-Z  tBodyAcc-max()-X  ...  fBodyBodyGyroJerkMag-meanFreq()  \\\n",
       "3         -0.347916          0.008288  ...                         0.050888   \n",
       "4         -0.346372          0.584131  ...                        -0.013902   \n",
       "5          0.101298         -0.019263  ...                         0.114524   \n",
       "\n",
       "   fBodyBodyGyroJerkMag-skewness()  fBodyBodyGyroJerkMag-kurtosis()  \\\n",
       "3                        -0.004012                        -0.408956   \n",
       "4                        -0.157832                        -0.563437   \n",
       "5                        -0.599906                        -0.887024   \n",
       "\n",
       "   angle(tBodyAccMean,gravity)  angle(tBodyAccJerkMean),gravityMean)  \\\n",
       "3                    -0.255125                              0.612804   \n",
       "4                    -0.044344                             -0.845268   \n",
       "5                    -0.030645                             -0.852091   \n",
       "\n",
       "   angle(tBodyGyroMean,gravityMean)  angle(tBodyGyroJerkMean,gravityMean)  \\\n",
       "3                          0.747381                             -0.072944   \n",
       "4                         -0.974650                             -0.887846   \n",
       "5                         -0.500195                              0.306091   \n",
       "\n",
       "   angle(X,gravityMean)  angle(Y,gravityMean)  angle(Z,gravityMean)  \n",
       "3             -0.695819              0.287154              0.111388  \n",
       "4             -0.705029              0.264952              0.137758  \n",
       "5             -0.552729              0.253885              0.291256  \n",
       "\n",
       "[3 rows x 561 columns]"
      ]
     },
     "execution_count": 331,
     "metadata": {},
     "output_type": "execute_result"
    }
   ],
   "source": [
    "x_move = train_move.drop(['Activity', 'Activity_dynamic'], axis=1)\n",
    "y_move = train_move.loc[:, 'Activity']\n",
    "x_move.head(3)"
   ]
  },
  {
   "cell_type": "code",
   "execution_count": 332,
   "metadata": {
    "colab": {
     "base_uri": "https://localhost:8080/"
    },
    "executionInfo": {
     "elapsed": 1014,
     "status": "ok",
     "timestamp": 1682563301288,
     "user": {
      "displayName": "허신 - Business Intelligence",
      "userId": "11511914061488776232"
     },
     "user_tz": -540
    },
    "id": "kbmf-ZOq-RQO",
    "outputId": "eae1dd17-4ef5-467b-93e3-0b4733d9346f",
    "tags": []
   },
   "outputs": [],
   "source": [
    "x_move_train, x_move_val, y_move_train, y_move_val = train_test_split(x_move, y_move, test_size=0.3, random_state=1, stratify=y_move)"
   ]
  },
  {
   "cell_type": "code",
   "execution_count": 333,
   "metadata": {
    "colab": {
     "base_uri": "https://localhost:8080/"
    },
    "executionInfo": {
     "elapsed": 396,
     "status": "ok",
     "timestamp": 1682563303957,
     "user": {
      "displayName": "허신 - Business Intelligence",
      "userId": "11511914061488776232"
     },
     "user_tz": -540
    },
    "id": "INiQ3sLZ-RQP",
    "outputId": "f8dfc59b-c46a-49d8-b9f8-837144b031fb",
    "tags": []
   },
   "outputs": [
    {
     "name": "stdout",
     "output_type": "stream",
     "text": [
      "Accuracy: 0.9949685534591195\n",
      "[[300   0   0]\n",
      " [  1 233   3]\n",
      " [  0   0 258]]\n",
      "                    precision    recall  f1-score   support\n",
      "\n",
      "           WALKING       1.00      1.00      1.00       300\n",
      "WALKING_DOWNSTAIRS       1.00      0.98      0.99       237\n",
      "  WALKING_UPSTAIRS       0.99      1.00      0.99       258\n",
      "\n",
      "          accuracy                           0.99       795\n",
      "         macro avg       1.00      0.99      0.99       795\n",
      "      weighted avg       1.00      0.99      0.99       795\n",
      "\n"
     ]
    }
   ],
   "source": [
    "model_lo_move = LogisticRegression()\n",
    "model_lo_move.fit(x_move_train, y_move_train)\n",
    "pred_move_val = model_lo_move.predict(x_move_val)\n",
    "print('Accuracy:', accuracy_score(y_move_val, pred_move_val))\n",
    "print(confusion_matrix(y_move_val, pred_move_val))\n",
    "print(classification_report(y_move_val, pred_move_val))"
   ]
  },
  {
   "cell_type": "code",
   "execution_count": 334,
   "metadata": {
    "tags": []
   },
   "outputs": [],
   "source": [
    "best_model_lr = model_lo_move.fit(x_move_train.loc[:, features_top30_lr['feature_name']], y_move_train)\n",
    "pred_stop_val = best_model_lr.predict(x_move_val.loc[:,features_top30_lr['feature_name']])"
   ]
  },
  {
   "cell_type": "code",
   "execution_count": 335,
   "metadata": {
    "tags": []
   },
   "outputs": [
    {
     "name": "stdout",
     "output_type": "stream",
     "text": [
      "Accuracy: 0.9949685534591195\n",
      "[[300   0   0]\n",
      " [  1 233   3]\n",
      " [  0   0 258]]\n",
      "                    precision    recall  f1-score   support\n",
      "\n",
      "           WALKING       1.00      1.00      1.00       300\n",
      "WALKING_DOWNSTAIRS       1.00      0.98      0.99       237\n",
      "  WALKING_UPSTAIRS       0.99      1.00      0.99       258\n",
      "\n",
      "          accuracy                           0.99       795\n",
      "         macro avg       1.00      0.99      0.99       795\n",
      "      weighted avg       1.00      0.99      0.99       795\n",
      "\n"
     ]
    }
   ],
   "source": [
    "print('Accuracy:', accuracy_score(y_move_val, pred_move_val))\n",
    "print(confusion_matrix(y_move_val, pred_move_val))\n",
    "print(classification_report(y_move_val, pred_move_val))"
   ]
  },
  {
   "cell_type": "code",
   "execution_count": 341,
   "metadata": {
    "tags": []
   },
   "outputs": [
    {
     "data": {
      "text/plain": [
       "['./best_model_lr_move.pkl']"
      ]
     },
     "execution_count": 341,
     "metadata": {},
     "output_type": "execute_result"
    }
   ],
   "source": [
    "best_model_lr_move = best_model_lr\n",
    "joblib.dump(best_model_lr_move, './best_model_lr_move.pkl')"
   ]
  },
  {
   "cell_type": "code",
   "execution_count": null,
   "metadata": {},
   "outputs": [],
   "source": []
  },
  {
   "cell_type": "code",
   "execution_count": 336,
   "metadata": {
    "tags": []
   },
   "outputs": [
    {
     "name": "stdout",
     "output_type": "stream",
     "text": [
      "Accuracy: 0.9811320754716981\n",
      "[[295   3   2]\n",
      " [  3 230   4]\n",
      " [  0   3 255]]\n",
      "                    precision    recall  f1-score   support\n",
      "\n",
      "           WALKING       0.99      0.98      0.99       300\n",
      "WALKING_DOWNSTAIRS       0.97      0.97      0.97       237\n",
      "  WALKING_UPSTAIRS       0.98      0.99      0.98       258\n",
      "\n",
      "          accuracy                           0.98       795\n",
      "         macro avg       0.98      0.98      0.98       795\n",
      "      weighted avg       0.98      0.98      0.98       795\n",
      "\n"
     ]
    }
   ],
   "source": [
    "# 모델 생성\n",
    "model_rf_move = RandomForestClassifier()\n",
    "# 학습\n",
    "model_rf_move.fit(x_move_train, y_move_train)\n",
    "# 예측\n",
    "pred_move_val = model_rf_move.predict(x_move_val)\n",
    "# 평가\n",
    "print('Accuracy:', accuracy_score(y_move_val, pred_move_val))\n",
    "print(confusion_matrix(y_move_val, pred_move_val))\n",
    "print(classification_report(y_move_val, pred_move_val))"
   ]
  },
  {
   "cell_type": "code",
   "execution_count": 337,
   "metadata": {
    "tags": []
   },
   "outputs": [
    {
     "name": "stderr",
     "output_type": "stream",
     "text": [
      "[I 2024-04-05 15:43:58,244] A new study created in memory with name: no-name-505b7e0d-e668-4ba4-a859-b455340ed760\n",
      "[I 2024-04-05 15:44:00,655] Trial 0 finished with value: 0.8465408805031447 and parameters: {'max_depth': 5, 'n_estimators': 137, 'min_samples_split': 6, 'min_samples_leaf': 2}. Best is trial 0 with value: 0.8465408805031447.\n",
      "[I 2024-04-05 15:44:05,227] Trial 1 finished with value: 0.889308176100629 and parameters: {'max_depth': 7, 'n_estimators': 198, 'min_samples_split': 12, 'min_samples_leaf': 8}. Best is trial 1 with value: 0.889308176100629.\n",
      "[I 2024-04-05 15:44:08,162] Trial 2 finished with value: 0.9132075471698113 and parameters: {'max_depth': 18, 'n_estimators': 104, 'min_samples_split': 10, 'min_samples_leaf': 4}. Best is trial 2 with value: 0.9132075471698113.\n",
      "[I 2024-04-05 15:44:13,081] Trial 3 finished with value: 0.9132075471698113 and parameters: {'max_depth': 15, 'n_estimators': 174, 'min_samples_split': 13, 'min_samples_leaf': 2}. Best is trial 2 with value: 0.9132075471698113.\n",
      "[I 2024-04-05 15:44:17,761] Trial 4 finished with value: 0.9106918238993711 and parameters: {'max_depth': 13, 'n_estimators': 166, 'min_samples_split': 18, 'min_samples_leaf': 4}. Best is trial 2 with value: 0.9132075471698113.\n",
      "[I 2024-04-05 15:44:20,389] Trial 5 finished with value: 0.8515723270440252 and parameters: {'max_depth': 5, 'n_estimators': 152, 'min_samples_split': 3, 'min_samples_leaf': 2}. Best is trial 2 with value: 0.9132075471698113.\n",
      "[I 2024-04-05 15:44:24,145] Trial 6 finished with value: 0.8716981132075472 and parameters: {'max_depth': 6, 'n_estimators': 188, 'min_samples_split': 7, 'min_samples_leaf': 2}. Best is trial 2 with value: 0.9132075471698113.\n",
      "[I 2024-04-05 15:44:29,774] Trial 7 finished with value: 0.909433962264151 and parameters: {'max_depth': 13, 'n_estimators': 199, 'min_samples_split': 12, 'min_samples_leaf': 6}. Best is trial 2 with value: 0.9132075471698113.\n",
      "[I 2024-04-05 15:44:32,974] Trial 8 finished with value: 0.8540880503144654 and parameters: {'max_depth': 5, 'n_estimators': 175, 'min_samples_split': 18, 'min_samples_leaf': 8}. Best is trial 2 with value: 0.9132075471698113.\n",
      "[I 2024-04-05 15:44:35,764] Trial 9 finished with value: 0.8540880503144654 and parameters: {'max_depth': 5, 'n_estimators': 162, 'min_samples_split': 7, 'min_samples_leaf': 3}. Best is trial 2 with value: 0.9132075471698113.\n",
      "[I 2024-04-05 15:44:38,728] Trial 10 finished with value: 0.9132075471698113 and parameters: {'max_depth': 20, 'n_estimators': 102, 'min_samples_split': 15, 'min_samples_leaf': 10}. Best is trial 2 with value: 0.9132075471698113.\n",
      "[I 2024-04-05 15:44:41,635] Trial 11 finished with value: 0.9144654088050315 and parameters: {'max_depth': 18, 'n_estimators': 103, 'min_samples_split': 10, 'min_samples_leaf': 5}. Best is trial 11 with value: 0.9144654088050315.\n",
      "[I 2024-04-05 15:44:44,624] Trial 12 finished with value: 0.9144654088050315 and parameters: {'max_depth': 19, 'n_estimators': 103, 'min_samples_split': 9, 'min_samples_leaf': 5}. Best is trial 11 with value: 0.9144654088050315.\n",
      "[I 2024-04-05 15:44:48,148] Trial 13 finished with value: 0.9106918238993711 and parameters: {'max_depth': 16, 'n_estimators': 123, 'min_samples_split': 9, 'min_samples_leaf': 6}. Best is trial 11 with value: 0.9144654088050315.\n",
      "[I 2024-04-05 15:44:51,524] Trial 14 finished with value: 0.9119496855345912 and parameters: {'max_depth': 20, 'n_estimators': 120, 'min_samples_split': 2, 'min_samples_leaf': 5}. Best is trial 11 with value: 0.9144654088050315.\n",
      "[I 2024-04-05 15:44:54,725] Trial 15 finished with value: 0.8955974842767296 and parameters: {'max_depth': 10, 'n_estimators': 117, 'min_samples_split': 5, 'min_samples_leaf': 7}. Best is trial 11 with value: 0.9144654088050315.\n",
      "[I 2024-04-05 15:44:58,416] Trial 16 finished with value: 0.9132075471698113 and parameters: {'max_depth': 17, 'n_estimators': 134, 'min_samples_split': 15, 'min_samples_leaf': 5}. Best is trial 11 with value: 0.9144654088050315.\n",
      "[I 2024-04-05 15:45:01,560] Trial 17 finished with value: 0.9132075471698113 and parameters: {'max_depth': 18, 'n_estimators': 111, 'min_samples_split': 9, 'min_samples_leaf': 4}. Best is trial 11 with value: 0.9144654088050315.\n",
      "[I 2024-04-05 15:45:05,284] Trial 18 finished with value: 0.9069182389937107 and parameters: {'max_depth': 11, 'n_estimators': 133, 'min_samples_split': 15, 'min_samples_leaf': 7}. Best is trial 11 with value: 0.9144654088050315.\n",
      "[I 2024-04-05 15:45:09,438] Trial 19 finished with value: 0.9132075471698113 and parameters: {'max_depth': 15, 'n_estimators': 146, 'min_samples_split': 20, 'min_samples_leaf': 10}. Best is trial 11 with value: 0.9144654088050315.\n",
      "[I 2024-04-05 15:45:12,235] Trial 20 finished with value: 0.9132075471698113 and parameters: {'max_depth': 20, 'n_estimators': 110, 'min_samples_split': 4, 'min_samples_leaf': 1}. Best is trial 11 with value: 0.9144654088050315.\n",
      "[I 2024-04-05 15:45:14,874] Trial 21 finished with value: 0.9144654088050315 and parameters: {'max_depth': 18, 'n_estimators': 100, 'min_samples_split': 9, 'min_samples_leaf': 4}. Best is trial 11 with value: 0.9144654088050315.\n",
      "[I 2024-04-05 15:45:17,834] Trial 22 finished with value: 0.9144654088050315 and parameters: {'max_depth': 18, 'n_estimators': 103, 'min_samples_split': 8, 'min_samples_leaf': 5}. Best is trial 11 with value: 0.9144654088050315.\n",
      "[I 2024-04-05 15:45:21,656] Trial 23 finished with value: 0.9106918238993711 and parameters: {'max_depth': 19, 'n_estimators': 127, 'min_samples_split': 11, 'min_samples_leaf': 3}. Best is trial 11 with value: 0.9144654088050315.\n",
      "[I 2024-04-05 15:45:24,321] Trial 24 finished with value: 0.9132075471698113 and parameters: {'max_depth': 16, 'n_estimators': 100, 'min_samples_split': 10, 'min_samples_leaf': 4}. Best is trial 11 with value: 0.9144654088050315.\n",
      "[I 2024-04-05 15:45:27,561] Trial 25 finished with value: 0.909433962264151 and parameters: {'max_depth': 14, 'n_estimators': 114, 'min_samples_split': 13, 'min_samples_leaf': 6}. Best is trial 11 with value: 0.9144654088050315.\n",
      "[I 2024-04-05 15:45:30,886] Trial 26 finished with value: 0.9132075471698113 and parameters: {'max_depth': 17, 'n_estimators': 113, 'min_samples_split': 8, 'min_samples_leaf': 7}. Best is trial 11 with value: 0.9144654088050315.\n",
      "[I 2024-04-05 15:45:33,941] Trial 27 finished with value: 0.9119496855345912 and parameters: {'max_depth': 19, 'n_estimators': 108, 'min_samples_split': 6, 'min_samples_leaf': 3}. Best is trial 11 with value: 0.9144654088050315.\n",
      "[I 2024-04-05 15:45:37,315] Trial 28 finished with value: 0.9056603773584906 and parameters: {'max_depth': 11, 'n_estimators': 125, 'min_samples_split': 10, 'min_samples_leaf': 5}. Best is trial 11 with value: 0.9144654088050315.\n",
      "[I 2024-04-05 15:45:41,611] Trial 29 finished with value: 0.9144654088050315 and parameters: {'max_depth': 17, 'n_estimators': 150, 'min_samples_split': 6, 'min_samples_leaf': 1}. Best is trial 11 with value: 0.9144654088050315.\n"
     ]
    },
    {
     "name": "stdout",
     "output_type": "stream",
     "text": [
      "Number of finished trials: 30\n",
      "Best trial: {'max_depth': 18, 'n_estimators': 103, 'min_samples_split': 10, 'min_samples_leaf': 5}\n"
     ]
    }
   ],
   "source": [
    "import optuna\n",
    "from sklearn.ensemble import RandomForestClassifier\n",
    "from sklearn.metrics import accuracy_score\n",
    "from sklearn.model_selection import train_test_split\n",
    "\n",
    "# optuna\n",
    "def objective(trial):\n",
    "    # 하이퍼파라미터 범위 설정\n",
    "    max_depth = trial.suggest_int('max_depth', 5, 20)\n",
    "    n_estimators = trial.suggest_int('n_estimators', 100, 200)\n",
    "    min_samples_split = trial.suggest_int('min_samples_split', 2, 20)\n",
    "    min_samples_leaf = trial.suggest_int('min_samples_leaf', 1, 10)\n",
    "    # 모델\n",
    "    model_rf_move = RandomForestClassifier(max_depth=max_depth, n_estimators=n_estimators, random_state=7)\n",
    "    \n",
    "    # 학습\n",
    "    model_rf_move.fit(x_move_train.loc[:, features_top30_rf['feature_name']], y_move_train)\n",
    "    \n",
    "    # 예측 및 평가\n",
    "    pred_move_val = model_rf_move.predict(x_move_val.loc[:, features_top30_rf['feature_name']])\n",
    "    accuracy = accuracy_score(y_move_val, pred_move_val)\n",
    "    \n",
    "    return accuracy\n",
    "\n",
    "# Optuna 최적화\n",
    "study = optuna.create_study(direction='maximize') # accuracy\n",
    "study.optimize(objective, n_trials=30)  \n",
    "\n",
    "# 최적 하이퍼파라미터 \n",
    "print('Number of finished trials:', len(study.trials))\n",
    "print('Best trial:', study.best_trial.params)"
   ]
  },
  {
   "cell_type": "code",
   "execution_count": 338,
   "metadata": {
    "tags": []
   },
   "outputs": [
    {
     "name": "stdout",
     "output_type": "stream",
     "text": [
      "Accuracy: 0.8968553459119497\n",
      "[[285   6   9]\n",
      " [  7 200  30]\n",
      " [ 23   7 228]]\n",
      "                    precision    recall  f1-score   support\n",
      "\n",
      "           WALKING       0.90      0.95      0.93       300\n",
      "WALKING_DOWNSTAIRS       0.94      0.84      0.89       237\n",
      "  WALKING_UPSTAIRS       0.85      0.88      0.87       258\n",
      "\n",
      "          accuracy                           0.90       795\n",
      "         macro avg       0.90      0.89      0.89       795\n",
      "      weighted avg       0.90      0.90      0.90       795\n",
      "\n"
     ]
    }
   ],
   "source": [
    "# 모델 학습, 예측, 평가\n",
    "best_params = study.best_trial.params\n",
    "best_model_rf = RandomForestClassifier(**best_params, random_state=7)\n",
    "best_model_rf.fit(x_move_train.loc[:, features_top30_rf['feature_name']], y_move_train)\n",
    "pred_move_val = best_model_rf.predict(x_move_val.loc[:, features_top30_rf['feature_name']])\n",
    "print('Accuracy:', accuracy_score(y_move_val, pred_move_val))\n",
    "print(confusion_matrix(y_move_val, pred_move_val))\n",
    "print(classification_report(y_move_val, pred_move_val))"
   ]
  },
  {
   "cell_type": "code",
   "execution_count": 339,
   "metadata": {
    "tags": []
   },
   "outputs": [],
   "source": [
    "model_rf_params_move = best_params\n",
    "best_model_rf_move = best_model_rf"
   ]
  },
  {
   "cell_type": "code",
   "execution_count": 340,
   "metadata": {
    "tags": []
   },
   "outputs": [
    {
     "data": {
      "text/plain": [
       "['./best_model_rf_move.pkl']"
      ]
     },
     "execution_count": 340,
     "metadata": {},
     "output_type": "execute_result"
    }
   ],
   "source": [
    "joblib.dump(model_rf_params_move, './model_rf_params_move.pkl')\n",
    "joblib.dump(best_model_rf_move, './best_model_rf_move.pkl')"
   ]
  },
  {
   "cell_type": "markdown",
   "metadata": {
    "id": "ShM5xWkwC3YE"
   },
   "source": [
    "### (4) 분류 모델 합치기\n"
   ]
  },
  {
   "cell_type": "markdown",
   "metadata": {
    "id": "K3i2vaxQ3Gmw"
   },
   "source": [
    "* 세부 처리사항\n",
    "    * 두 단계 모델을 통합하고, 새로운 데이터(test)에 대해서 최종 예측결과와 성능평가가 나오도록 함수로 만들기\n",
    "    * 데이터 파이프라인 구축 : test데이터가 로딩되어 전처리 과정을 거치고, 예측 및 성능 평가 수행"
   ]
  },
  {
   "cell_type": "markdown",
   "metadata": {
    "id": "88hluBpL33eB"
   },
   "source": [
    "![](https://github.com/DA4BAM/image/blob/main/pipeline%20function.png?raw=true)"
   ]
  },
  {
   "cell_type": "markdown",
   "metadata": {
    "id": "Re6LpNYhi5d3"
   },
   "source": [
    "#### 1) 함수 만들어서 분류모델 합치기"
   ]
  },
  {
   "cell_type": "code",
   "execution_count": 359,
   "metadata": {
    "tags": []
   },
   "outputs": [],
   "source": [
    "def model(data):\n",
    "    data['Activity_dynamic'] = data['Activity'].map({'STANDING': 0, 'SITTING': 0, 'LAYING': 0, 'WALKING': 1, 'WALKING_UPSTAIRS': 1, 'WALKING_DOWNSTAIRS': 1})\n",
    "\n",
    "    x_test = data.drop(['Activity', 'Activity_dynamic'], axis=1)\n",
    "    y_test = data.loc[:, 'Activity']\n",
    "    y2 = data.loc[:, 'Activity_dynamic']\n",
    "\n",
    "    # 예측\n",
    "    pred = best_model_lr_all.predict(x_test.loc[:,features_top30_lr['feature_name']])\n",
    "    data['Predicted'] = pred\n",
    "    return data['Predicted']"
   ]
  },
  {
   "cell_type": "code",
   "execution_count": 360,
   "metadata": {
    "tags": []
   },
   "outputs": [
    {
     "data": {
      "text/plain": [
       "0       0\n",
       "1       0\n",
       "2       1\n",
       "3       0\n",
       "4       0\n",
       "       ..\n",
       "1466    0\n",
       "1467    0\n",
       "1468    1\n",
       "1469    0\n",
       "1470    1\n",
       "Name: Predicted, Length: 1471, dtype: int64"
      ]
     },
     "execution_count": 360,
     "metadata": {},
     "output_type": "execute_result"
    }
   ],
   "source": [
    "model(test)"
   ]
  },
  {
   "cell_type": "code",
   "execution_count": 361,
   "metadata": {
    "tags": []
   },
   "outputs": [],
   "source": [
    "def sum_model(data):    \n",
    "    # 정적 : 0\n",
    "    stop = data.loc[data['Predicted'] == 0]\n",
    "    x_stop = stop.drop(['Activity', 'Activity_dynamic', 'Predicted'], axis=1)\n",
    "    y_stop = stop.loc[:, 'Activity']        \n",
    "\n",
    "    # 예측\n",
    "    pred_stop = best_model_lr_stop.predict(x_stop.loc[:,features_top30_lr['feature_name']])    \n",
    "    stop['Predict_stop'] = pred_stop\n",
    "    # 동적 : 1\n",
    "    move = data.loc[data['Predicted'] == 1]\n",
    "    x_move = move.drop(['Activity', 'Activity_dynamic', 'Predicted'], axis=1)\n",
    "    y_move = move.loc[:, 'Activity']        \n",
    "\n",
    "    # 예측\n",
    "    pred_move = best_model_lr_move.predict(x_move.loc[:,features_top30_lr['feature_name']])   \n",
    "\n",
    "    # 예측 결과 합\n",
    "    move['Predict_move'] = pred_move\n",
    "    result = pd.concat([stop, move], axis=0)\n",
    "    result['Predicted_all'] = result.apply(lambda row: row['Predict_stop'] if pd.notnull(row['Predict_stop']) else row['Predict_move'], axis=1)\n",
    "    result.drop(['Predict_stop', 'Predict_move'], axis=1, inplace=True)\n",
    "    \n",
    "    y_test = result.loc[:, 'Activity']\n",
    "    y_pred = result.loc[:, 'Predicted_all']\n",
    "    \n",
    "    print(classification_report(y_test, y_pred))\n",
    "    return y_pred"
   ]
  },
  {
   "cell_type": "markdown",
   "metadata": {
    "id": "6N5htravVDFe"
   },
   "source": [
    "#### 2) test 셋으로 예측하고 평가하기"
   ]
  },
  {
   "cell_type": "code",
   "execution_count": 362,
   "metadata": {
    "colab": {
     "base_uri": "https://localhost:8080/",
     "height": 337
    },
    "executionInfo": {
     "elapsed": 927,
     "status": "ok",
     "timestamp": 1682563319695,
     "user": {
      "displayName": "허신 - Business Intelligence",
      "userId": "11511914061488776232"
     },
     "user_tz": -540
    },
    "id": "eVLnQbdfUyx9",
    "outputId": "62fb0380-59de-4b89-ea14-a464273821b5"
   },
   "outputs": [
    {
     "name": "stdout",
     "output_type": "stream",
     "text": [
      "                    precision    recall  f1-score   support\n",
      "\n",
      "            LAYING       1.00      1.00      1.00       292\n",
      "           SITTING       0.92      0.88      0.90       254\n",
      "          STANDING       0.90      0.93      0.92       287\n",
      "           WALKING       0.92      0.95      0.93       228\n",
      "WALKING_DOWNSTAIRS       0.97      0.96      0.97       195\n",
      "  WALKING_UPSTAIRS       0.93      0.91      0.92       215\n",
      "\n",
      "          accuracy                           0.94      1471\n",
      "         macro avg       0.94      0.94      0.94      1471\n",
      "      weighted avg       0.94      0.94      0.94      1471\n",
      "\n"
     ]
    },
    {
     "data": {
      "text/plain": [
       "0                  SITTING\n",
       "1                 STANDING\n",
       "3                  SITTING\n",
       "4                 STANDING\n",
       "6                 STANDING\n",
       "               ...        \n",
       "1459      WALKING_UPSTAIRS\n",
       "1462    WALKING_DOWNSTAIRS\n",
       "1463    WALKING_DOWNSTAIRS\n",
       "1468               WALKING\n",
       "1470    WALKING_DOWNSTAIRS\n",
       "Name: Predicted_all, Length: 1471, dtype: object"
      ]
     },
     "execution_count": 362,
     "metadata": {},
     "output_type": "execute_result"
    }
   ],
   "source": [
    "evaluation = sum_model(test)\n",
    "evaluation"
   ]
  },
  {
   "cell_type": "markdown",
   "metadata": {
    "id": "agGUflSTVE58"
   },
   "source": [
    "* 성능 평가"
   ]
  },
  {
   "cell_type": "markdown",
   "metadata": {
    "colab": {
     "base_uri": "https://localhost:8080/"
    },
    "executionInfo": {
     "elapsed": 3,
     "status": "ok",
     "timestamp": 1682563322359,
     "user": {
      "displayName": "허신 - Business Intelligence",
      "userId": "11511914061488776232"
     },
     "user_tz": -540
    },
    "id": "ApfVsX_Zzr7r",
    "outputId": "d8332ec6-360d-4372-ab85-af4a772bc0d2"
   },
   "source": [
    "- 정확도:98%\n",
    "- F1-score: sitting, stading에 대한 f1-score는 95%\n",
    "- 동적 움직임에 대해서는 거의 완벽에 가깝게 맞춤"
   ]
  },
  {
   "cell_type": "code",
   "execution_count": 363,
   "metadata": {
    "tags": []
   },
   "outputs": [
    {
     "data": {
      "text/plain": [
       "['evaluation.pkl']"
      ]
     },
     "execution_count": 363,
     "metadata": {},
     "output_type": "execute_result"
    }
   ],
   "source": [
    "import joblib\n",
    "\n",
    "# 함수 저장\n",
    "joblib.dump(model, 'model_function.pkl')\n",
    "joblib.dump(sum_model, 'sum_model_function.pkl')\n",
    "\n",
    "# 평가 저장\n",
    "joblib.dump(evaluation, 'evaluation.pkl')"
   ]
  }
 ],
 "metadata": {
  "accelerator": "GPU",
  "colab": {
   "provenance": [],
   "toc_visible": true
  },
  "gpuClass": "standard",
  "kernelspec": {
   "display_name": "Python 3 (ipykernel)",
   "language": "python",
   "name": "python3"
  },
  "language_info": {
   "codemirror_mode": {
    "name": "ipython",
    "version": 3
   },
   "file_extension": ".py",
   "mimetype": "text/x-python",
   "name": "python",
   "nbconvert_exporter": "python",
   "pygments_lexer": "ipython3",
   "version": "3.11.5"
  }
 },
 "nbformat": 4,
 "nbformat_minor": 4
}
